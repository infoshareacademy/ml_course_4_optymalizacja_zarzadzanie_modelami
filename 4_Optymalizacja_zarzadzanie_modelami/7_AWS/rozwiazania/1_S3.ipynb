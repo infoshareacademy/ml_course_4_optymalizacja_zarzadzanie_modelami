{
 "cells": [
  {
   "cell_type": "markdown",
   "metadata": {},
   "source": [
    "# AWS S3"
   ]
  },
  {
   "cell_type": "code",
   "execution_count": null,
   "metadata": {},
   "outputs": [],
   "source": [
    "# puść ten kod, \n",
    "# jeżeli wywołujesz plik  w folderze rozwiąznaia, \n",
    "# a ramka danych znajduje się w folderze data\n",
    "import os \n",
    "os.chdir('../')"
   ]
  },
  {
   "cell_type": "code",
   "execution_count": null,
   "metadata": {},
   "outputs": [],
   "source": [
    "#pip install boto3"
   ]
  },
  {
   "cell_type": "code",
   "execution_count": null,
   "metadata": {},
   "outputs": [],
   "source": [
    "#pip install python-dotenv"
   ]
  },
  {
   "cell_type": "code",
   "execution_count": 1,
   "metadata": {},
   "outputs": [],
   "source": [
    "from dotenv import load_dotenv\n",
    "import os\n",
    "import boto3"
   ]
  },
  {
   "cell_type": "code",
   "execution_count": 2,
   "metadata": {},
   "outputs": [
    {
     "data": {
      "text/plain": [
       "True"
      ]
     },
     "execution_count": 2,
     "metadata": {},
     "output_type": "execute_result"
    }
   ],
   "source": [
    "# załadowanie zmiennych środowiskowych\n",
    "load_dotenv()"
   ]
  },
  {
   "cell_type": "code",
   "execution_count": 3,
   "metadata": {},
   "outputs": [],
   "source": [
    "# Wczytanie kluczy\n",
    "AWS_ACCESS_KEY = os.getenv(\"AWS_ACCESS_KEY\")\n",
    "AWS_SECRET_ACCESS_KEY = os.getenv(\"AWS_SECRET_ACCESS_KEY\")"
   ]
  },
  {
   "cell_type": "code",
   "execution_count": 4,
   "metadata": {},
   "outputs": [
    {
     "data": {
      "text/plain": [
       "40"
      ]
     },
     "execution_count": 4,
     "metadata": {},
     "output_type": "execute_result"
    }
   ],
   "source": [
    "len(AWS_SECRET_ACCESS_KEY)"
   ]
  },
  {
   "cell_type": "code",
   "execution_count": 6,
   "metadata": {},
   "outputs": [],
   "source": [
    "# Inicjalizacja klienta S3\n",
    "s3_client = boto3.client('s3',\n",
    "                         aws_access_key_id = AWS_ACCESS_KEY,\n",
    "                         aws_secret_access_key = AWS_SECRET_ACCESS_KEY)"
   ]
  },
  {
   "cell_type": "markdown",
   "metadata": {},
   "source": [
    "## Bucket"
   ]
  },
  {
   "cell_type": "code",
   "execution_count": 7,
   "metadata": {},
   "outputs": [],
   "source": [
    "# Lista bucketów\n",
    "response = s3_client.list_buckets()\n",
    "buckets = response.get('Buckets',[])"
   ]
  },
  {
   "cell_type": "code",
   "execution_count": 8,
   "metadata": {},
   "outputs": [
    {
     "data": {
      "text/plain": [
       "{'ResponseMetadata': {'RequestId': '2YZMVC940Q8DDNFH',\n",
       "  'HostId': '+BHEoD9N0gyEBLF3QF1b6PAXcGI81zVMOXrI6zx/Qu7PXzrjqH2FZUf1eFvm6KGSNY2w5raa5WE=',\n",
       "  'HTTPStatusCode': 200,\n",
       "  'HTTPHeaders': {'x-amz-id-2': '+BHEoD9N0gyEBLF3QF1b6PAXcGI81zVMOXrI6zx/Qu7PXzrjqH2FZUf1eFvm6KGSNY2w5raa5WE=',\n",
       "   'x-amz-request-id': '2YZMVC940Q8DDNFH',\n",
       "   'date': 'Tue, 10 Dec 2024 18:09:22 GMT',\n",
       "   'content-type': 'application/xml',\n",
       "   'transfer-encoding': 'chunked',\n",
       "   'server': 'AmazonS3'},\n",
       "  'RetryAttempts': 0},\n",
       " 'Buckets': [{'Name': 'mlmisa',\n",
       "   'CreationDate': datetime.datetime(2024, 12, 9, 16, 33, 24, tzinfo=tzutc())},\n",
       "  {'Name': 'models-isa-x',\n",
       "   'CreationDate': datetime.datetime(2024, 12, 9, 19, 9, 33, tzinfo=tzutc())}],\n",
       " 'Owner': {'DisplayName': 'online',\n",
       "  'ID': '39edefa29f1c174368494eba41ef424aee3f644295a3812872589e68c106e346'}}"
      ]
     },
     "execution_count": 8,
     "metadata": {},
     "output_type": "execute_result"
    }
   ],
   "source": [
    "# response\n",
    "response"
   ]
  },
  {
   "cell_type": "code",
   "execution_count": 9,
   "metadata": {},
   "outputs": [
    {
     "data": {
      "text/plain": [
       "[{'Name': 'mlmisa',\n",
       "  'CreationDate': datetime.datetime(2024, 12, 9, 16, 33, 24, tzinfo=tzutc())},\n",
       " {'Name': 'models-isa-x',\n",
       "  'CreationDate': datetime.datetime(2024, 12, 9, 19, 9, 33, tzinfo=tzutc())}]"
      ]
     },
     "execution_count": 9,
     "metadata": {},
     "output_type": "execute_result"
    }
   ],
   "source": [
    "# buckets\n",
    "buckets"
   ]
  },
  {
   "cell_type": "code",
   "execution_count": 10,
   "metadata": {},
   "outputs": [
    {
     "data": {
      "text/plain": [
       "{'ResponseMetadata': {'RequestId': '4QT3Y8D6T0JVY58H',\n",
       "  'HostId': 'P8uKEkTOwc7ojC1o5dnzM0KkgtOXSeJelGcXrmGu4IqLKUfuzuzoCIEEVLPnhr1Rg3K2vmKEpxg=',\n",
       "  'HTTPStatusCode': 200,\n",
       "  'HTTPHeaders': {'x-amz-id-2': 'P8uKEkTOwc7ojC1o5dnzM0KkgtOXSeJelGcXrmGu4IqLKUfuzuzoCIEEVLPnhr1Rg3K2vmKEpxg=',\n",
       "   'x-amz-request-id': '4QT3Y8D6T0JVY58H',\n",
       "   'date': 'Tue, 10 Dec 2024 18:10:32 GMT',\n",
       "   'location': '/model-isa-y',\n",
       "   'content-length': '0',\n",
       "   'server': 'AmazonS3'},\n",
       "  'RetryAttempts': 0},\n",
       " 'Location': '/model-isa-y'}"
      ]
     },
     "execution_count": 10,
     "metadata": {},
     "output_type": "execute_result"
    }
   ],
   "source": [
    "# stworzenie bucketu\n",
    "s3_client.create_bucket(Bucket = 'model-isa-y')"
   ]
  },
  {
   "cell_type": "code",
   "execution_count": 11,
   "metadata": {},
   "outputs": [
    {
     "data": {
      "text/plain": [
       "[{'Name': 'mlmisa',\n",
       "  'CreationDate': datetime.datetime(2024, 12, 9, 16, 33, 24, tzinfo=tzutc())},\n",
       " {'Name': 'model-isa-y',\n",
       "  'CreationDate': datetime.datetime(2024, 12, 10, 18, 10, 32, tzinfo=tzutc())},\n",
       " {'Name': 'models-isa-x',\n",
       "  'CreationDate': datetime.datetime(2024, 12, 9, 19, 9, 33, tzinfo=tzutc())}]"
      ]
     },
     "execution_count": 11,
     "metadata": {},
     "output_type": "execute_result"
    }
   ],
   "source": [
    "# Lista bucketów\n",
    "response = s3_client.list_buckets()\n",
    "buckets = response.get('Buckets',[])\n",
    "buckets"
   ]
  },
  {
   "cell_type": "code",
   "execution_count": 12,
   "metadata": {},
   "outputs": [
    {
     "data": {
      "text/plain": [
       "'model-isa-y'"
      ]
     },
     "execution_count": 12,
     "metadata": {},
     "output_type": "execute_result"
    }
   ],
   "source": [
    "# Przypisanie nazwy nowegu bucketu do zmiennej\n",
    "bucket = buckets[1]['Name']\n",
    "bucket"
   ]
  },
  {
   "cell_type": "markdown",
   "metadata": {},
   "source": [
    "## Operowanie na plikach"
   ]
  },
  {
   "cell_type": "code",
   "execution_count": 16,
   "metadata": {},
   "outputs": [],
   "source": [
    "# ścieżka w buckecie do wczytania pliku\n",
    "path_in_bucket = 'data/orders.csv'"
   ]
  },
  {
   "cell_type": "code",
   "execution_count": 17,
   "metadata": {},
   "outputs": [],
   "source": [
    "# Wczytanie pliku na S3\n",
    "s3_client.upload_file('data/orders.csv',bucket,path_in_bucket)"
   ]
  },
  {
   "cell_type": "code",
   "execution_count": 18,
   "metadata": {},
   "outputs": [],
   "source": [
    "# Lista obiektów na S3\n",
    "objects_lists = s3_client.list_objects_v2(Bucket = bucket)"
   ]
  },
  {
   "cell_type": "code",
   "execution_count": 19,
   "metadata": {},
   "outputs": [
    {
     "data": {
      "text/plain": [
       "[{'Key': '/data/orders.csv',\n",
       "  'LastModified': datetime.datetime(2024, 12, 10, 18, 15, 15, tzinfo=tzutc()),\n",
       "  'ETag': '\"f26047c99e3938a21440bc653154f680\"',\n",
       "  'Size': 3076,\n",
       "  'StorageClass': 'STANDARD'},\n",
       " {'Key': 'data/orders.csv',\n",
       "  'LastModified': datetime.datetime(2024, 12, 10, 18, 15, 49, tzinfo=tzutc()),\n",
       "  'ETag': '\"f26047c99e3938a21440bc653154f680\"',\n",
       "  'Size': 3076,\n",
       "  'StorageClass': 'STANDARD'}]"
      ]
     },
     "execution_count": 19,
     "metadata": {},
     "output_type": "execute_result"
    }
   ],
   "source": [
    "objects_lists['Contents']"
   ]
  },
  {
   "cell_type": "code",
   "execution_count": 20,
   "metadata": {},
   "outputs": [
    {
     "data": {
      "text/plain": [
       "'mlmisa'"
      ]
     },
     "execution_count": 20,
     "metadata": {},
     "output_type": "execute_result"
    }
   ],
   "source": [
    "# Bucket docelowy\n",
    "dest_bucket = buckets[0]['Name']\n",
    "dest_bucket"
   ]
  },
  {
   "cell_type": "code",
   "execution_count": 22,
   "metadata": {},
   "outputs": [
    {
     "data": {
      "text/plain": [
       "{'ResponseMetadata': {'RequestId': 'T07006BDYHNAT4RA',\n",
       "  'HostId': 'lPiIGsOyouc6tA6G8J0PxvEk0tYk7GEAwFl8AQGENmxDCDOX7igdRYtK9GEPESh1C0Ls7L+W451zI0Z0r5Sto6vkpPFS5lyX',\n",
       "  'HTTPStatusCode': 200,\n",
       "  'HTTPHeaders': {'x-amz-id-2': 'lPiIGsOyouc6tA6G8J0PxvEk0tYk7GEAwFl8AQGENmxDCDOX7igdRYtK9GEPESh1C0Ls7L+W451zI0Z0r5Sto6vkpPFS5lyX',\n",
       "   'x-amz-request-id': 'T07006BDYHNAT4RA',\n",
       "   'date': 'Tue, 10 Dec 2024 18:18:52 GMT',\n",
       "   'x-amz-version-id': 'YBbSnBURq7f7T4yA0o2F5nM9AAA0wvPG',\n",
       "   'x-amz-server-side-encryption': 'AES256',\n",
       "   'content-type': 'application/xml',\n",
       "   'content-length': '224',\n",
       "   'server': 'AmazonS3'},\n",
       "  'RetryAttempts': 1},\n",
       " 'VersionId': 'YBbSnBURq7f7T4yA0o2F5nM9AAA0wvPG',\n",
       " 'ServerSideEncryption': 'AES256',\n",
       " 'CopyObjectResult': {'ETag': '\"f26047c99e3938a21440bc653154f680\"',\n",
       "  'LastModified': datetime.datetime(2024, 12, 10, 18, 18, 52, tzinfo=tzutc())}}"
      ]
     },
     "execution_count": 22,
     "metadata": {},
     "output_type": "execute_result"
    }
   ],
   "source": [
    "# kopiowanie pliku\n",
    "copy_source = {'Bucket': bucket, 'Key': path_in_bucket}\n",
    "s3_client.copy_object(CopySource = copy_source, Bucket = dest_bucket, Key=path_in_bucket)"
   ]
  },
  {
   "cell_type": "markdown",
   "metadata": {},
   "source": [
    "# Usuwanie"
   ]
  },
  {
   "cell_type": "code",
   "execution_count": 26,
   "metadata": {},
   "outputs": [
    {
     "ename": "ClientError",
     "evalue": "An error occurred (BucketNotEmpty) when calling the DeleteBucket operation: The bucket you tried to delete is not empty",
     "output_type": "error",
     "traceback": [
      "\u001b[1;31m---------------------------------------------------------------------------\u001b[0m",
      "\u001b[1;31mClientError\u001b[0m                               Traceback (most recent call last)",
      "Cell \u001b[1;32mIn[26], line 2\u001b[0m\n\u001b[0;32m      1\u001b[0m \u001b[38;5;66;03m# usuniecie bucketu\u001b[39;00m\n\u001b[1;32m----> 2\u001b[0m \u001b[43ms3_client\u001b[49m\u001b[38;5;241;43m.\u001b[39;49m\u001b[43mdelete_bucket\u001b[49m\u001b[43m(\u001b[49m\u001b[43mBucket\u001b[49m\u001b[43m \u001b[49m\u001b[38;5;241;43m=\u001b[39;49m\u001b[43m \u001b[49m\u001b[43mbucket\u001b[49m\u001b[43m)\u001b[49m\n",
      "File \u001b[1;32mc:\\Users\\Lenovo\\AppData\\Local\\Programs\\Python\\Python312\\Lib\\site-packages\\botocore\\client.py:569\u001b[0m, in \u001b[0;36mClientCreator._create_api_method.<locals>._api_call\u001b[1;34m(self, *args, **kwargs)\u001b[0m\n\u001b[0;32m    565\u001b[0m     \u001b[38;5;28;01mraise\u001b[39;00m \u001b[38;5;167;01mTypeError\u001b[39;00m(\n\u001b[0;32m    566\u001b[0m         \u001b[38;5;124mf\u001b[39m\u001b[38;5;124m\"\u001b[39m\u001b[38;5;132;01m{\u001b[39;00mpy_operation_name\u001b[38;5;132;01m}\u001b[39;00m\u001b[38;5;124m() only accepts keyword arguments.\u001b[39m\u001b[38;5;124m\"\u001b[39m\n\u001b[0;32m    567\u001b[0m     )\n\u001b[0;32m    568\u001b[0m \u001b[38;5;66;03m# The \"self\" in this scope is referring to the BaseClient.\u001b[39;00m\n\u001b[1;32m--> 569\u001b[0m \u001b[38;5;28;01mreturn\u001b[39;00m \u001b[38;5;28;43mself\u001b[39;49m\u001b[38;5;241;43m.\u001b[39;49m\u001b[43m_make_api_call\u001b[49m\u001b[43m(\u001b[49m\u001b[43moperation_name\u001b[49m\u001b[43m,\u001b[49m\u001b[43m \u001b[49m\u001b[43mkwargs\u001b[49m\u001b[43m)\u001b[49m\n",
      "File \u001b[1;32mc:\\Users\\Lenovo\\AppData\\Local\\Programs\\Python\\Python312\\Lib\\site-packages\\botocore\\client.py:1023\u001b[0m, in \u001b[0;36mBaseClient._make_api_call\u001b[1;34m(self, operation_name, api_params)\u001b[0m\n\u001b[0;32m   1019\u001b[0m     error_code \u001b[38;5;241m=\u001b[39m error_info\u001b[38;5;241m.\u001b[39mget(\u001b[38;5;124m\"\u001b[39m\u001b[38;5;124mQueryErrorCode\u001b[39m\u001b[38;5;124m\"\u001b[39m) \u001b[38;5;129;01mor\u001b[39;00m error_info\u001b[38;5;241m.\u001b[39mget(\n\u001b[0;32m   1020\u001b[0m         \u001b[38;5;124m\"\u001b[39m\u001b[38;5;124mCode\u001b[39m\u001b[38;5;124m\"\u001b[39m\n\u001b[0;32m   1021\u001b[0m     )\n\u001b[0;32m   1022\u001b[0m     error_class \u001b[38;5;241m=\u001b[39m \u001b[38;5;28mself\u001b[39m\u001b[38;5;241m.\u001b[39mexceptions\u001b[38;5;241m.\u001b[39mfrom_code(error_code)\n\u001b[1;32m-> 1023\u001b[0m     \u001b[38;5;28;01mraise\u001b[39;00m error_class(parsed_response, operation_name)\n\u001b[0;32m   1024\u001b[0m \u001b[38;5;28;01melse\u001b[39;00m:\n\u001b[0;32m   1025\u001b[0m     \u001b[38;5;28;01mreturn\u001b[39;00m parsed_response\n",
      "\u001b[1;31mClientError\u001b[0m: An error occurred (BucketNotEmpty) when calling the DeleteBucket operation: The bucket you tried to delete is not empty"
     ]
    }
   ],
   "source": [
    "# usuniecie bucketu\n",
    "s3_client.delete_bucket(Bucket = bucket)"
   ]
  },
  {
   "cell_type": "code",
   "execution_count": 24,
   "metadata": {},
   "outputs": [
    {
     "data": {
      "text/plain": [
       "{'ResponseMetadata': {'RequestId': 'BE41B6GW24XGTYYE',\n",
       "  'HostId': 'AKx7ovwRiU1nPu7ehDQMUa6JMIbZ9BkDyT9JU+yuZPyR4H42ADYmsR44ohoPlpok0pFRcXwUSx0=',\n",
       "  'HTTPStatusCode': 204,\n",
       "  'HTTPHeaders': {'x-amz-id-2': 'AKx7ovwRiU1nPu7ehDQMUa6JMIbZ9BkDyT9JU+yuZPyR4H42ADYmsR44ohoPlpok0pFRcXwUSx0=',\n",
       "   'x-amz-request-id': 'BE41B6GW24XGTYYE',\n",
       "   'date': 'Tue, 10 Dec 2024 18:20:34 GMT',\n",
       "   'server': 'AmazonS3'},\n",
       "  'RetryAttempts': 0}}"
      ]
     },
     "execution_count": 24,
     "metadata": {},
     "output_type": "execute_result"
    }
   ],
   "source": [
    "# Usunięcie obiektu\n",
    "s3_client.delete_object(Bucket= bucket, Key= path_in_bucket)"
   ]
  },
  {
   "cell_type": "code",
   "execution_count": 27,
   "metadata": {},
   "outputs": [
    {
     "data": {
      "text/plain": [
       "{'ResponseMetadata': {'RequestId': '2GRBE0DX1VR1C7E5',\n",
       "  'HostId': 'CwLiQMyRIKiKXsCwJGgrh1P7sN5DEVGPgYPIFC2VQrnXBypOJ43sAwzLaQBW1N2XQWLTNYGOles=',\n",
       "  'HTTPStatusCode': 204,\n",
       "  'HTTPHeaders': {'x-amz-id-2': 'CwLiQMyRIKiKXsCwJGgrh1P7sN5DEVGPgYPIFC2VQrnXBypOJ43sAwzLaQBW1N2XQWLTNYGOles=',\n",
       "   'x-amz-request-id': '2GRBE0DX1VR1C7E5',\n",
       "   'date': 'Tue, 10 Dec 2024 18:21:14 GMT',\n",
       "   'server': 'AmazonS3'},\n",
       "  'RetryAttempts': 0}}"
      ]
     },
     "execution_count": 27,
     "metadata": {},
     "output_type": "execute_result"
    }
   ],
   "source": [
    "s3_client.delete_object(Bucket= bucket, Key= '/data/orders.csv')"
   ]
  },
  {
   "cell_type": "code",
   "execution_count": 28,
   "metadata": {},
   "outputs": [
    {
     "data": {
      "text/plain": [
       "{'ResponseMetadata': {'RequestId': 'M0NVRCJ1FY8TQRPX',\n",
       "  'HostId': '+jgvB4Ox97I2Pq1/D4epZVxtQ6eBLYos7YGS3dV5qSl/eqm3tsldOoqyBsPBNxmrZDjdIsCkMn6+aDfeS3ci2bAdAmOsy7L/',\n",
       "  'HTTPStatusCode': 204,\n",
       "  'HTTPHeaders': {'x-amz-id-2': '+jgvB4Ox97I2Pq1/D4epZVxtQ6eBLYos7YGS3dV5qSl/eqm3tsldOoqyBsPBNxmrZDjdIsCkMn6+aDfeS3ci2bAdAmOsy7L/',\n",
       "   'x-amz-request-id': 'M0NVRCJ1FY8TQRPX',\n",
       "   'date': 'Tue, 10 Dec 2024 18:21:33 GMT',\n",
       "   'server': 'AmazonS3'},\n",
       "  'RetryAttempts': 0}}"
      ]
     },
     "execution_count": 28,
     "metadata": {},
     "output_type": "execute_result"
    }
   ],
   "source": [
    "# usuniecie bucketu\n",
    "s3_client.delete_bucket(Bucket= bucket)"
   ]
  },
  {
   "cell_type": "markdown",
   "metadata": {},
   "source": [
    "## Pobieranie plików"
   ]
  },
  {
   "cell_type": "code",
   "execution_count": 29,
   "metadata": {},
   "outputs": [],
   "source": [
    "# pobranie pliku\n",
    "s3_client.download_file(dest_bucket,path_in_bucket, 'data/orders_from_aws.csv')"
   ]
  }
 ],
 "metadata": {
  "kernelspec": {
   "display_name": "Python 3",
   "language": "python",
   "name": "python3"
  },
  "language_info": {
   "codemirror_mode": {
    "name": "ipython",
    "version": 3
   },
   "file_extension": ".py",
   "mimetype": "text/x-python",
   "name": "python",
   "nbconvert_exporter": "python",
   "pygments_lexer": "ipython3",
   "version": "3.12.5"
  }
 },
 "nbformat": 4,
 "nbformat_minor": 2
}
