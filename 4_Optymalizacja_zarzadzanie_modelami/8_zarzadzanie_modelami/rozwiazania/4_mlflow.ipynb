{
 "cells": [
  {
   "cell_type": "markdown",
   "metadata": {},
   "source": [
    "# MLflow\n",
    "\n",
    "Dokumentacja: https://mlflow.org/docs/latest/getting-started/intro-quickstart/index.html"
   ]
  },
  {
   "cell_type": "code",
   "execution_count": null,
   "metadata": {},
   "outputs": [],
   "source": [
    "#pip install mlflow"
   ]
  },
  {
   "cell_type": "code",
   "execution_count": 1,
   "metadata": {},
   "outputs": [],
   "source": [
    "import pandas as pd \n",
    "from mlflow.transformers import generate_signature_output\n",
    "import mlflow\n",
    "from mlflow.models import infer_signature\n",
    "from sklearn.ensemble import GradientBoostingRegressor\n",
    "from sklearn.model_selection import train_test_split\n",
    "from mlflow import MlflowClient"
   ]
  },
  {
   "cell_type": "code",
   "execution_count": 2,
   "metadata": {},
   "outputs": [],
   "source": [
    "# puść ten kod, \n",
    "# jeżeli wywołujesz plik  w folderze rozwiąznaia, \n",
    "# a ramka danych znajduje się w folderze data\n",
    "import os \n",
    "os.chdir('../')"
   ]
  },
  {
   "cell_type": "code",
   "execution_count": 3,
   "metadata": {},
   "outputs": [],
   "source": [
    "# Ładowanie danych\n",
    "df= pd.read_csv('data/Restaurant_revenue.csv')"
   ]
  },
  {
   "cell_type": "code",
   "execution_count": null,
   "metadata": {},
   "outputs": [],
   "source": [
    "# zmienne numeryczne\n",
    "num_features = df.select_dtypes(exclude = 'object').columns[:-1]\n",
    "num_features"
   ]
  },
  {
   "cell_type": "code",
   "execution_count": 4,
   "metadata": {},
   "outputs": [],
   "source": [
    "# Train/test split\n",
    "train_x, test_x, train_y, test_y = train_test_split(df.drop(['Monthly_Revenue','Cuisine_Type'],axis=1),df['Monthly_Revenue'])"
   ]
  },
  {
   "cell_type": "code",
   "execution_count": null,
   "metadata": {},
   "outputs": [],
   "source": [
    "# w wierszu poleceń: mlflow ui"
   ]
  },
  {
   "cell_type": "code",
   "execution_count": 5,
   "metadata": {},
   "outputs": [],
   "source": [
    "# Ustawienie lokalnego adresu\n",
    "mlflow.set_tracking_uri(uri=\"http://127.0.0.1:5000\")"
   ]
  },
  {
   "cell_type": "code",
   "execution_count": null,
   "metadata": {},
   "outputs": [],
   "source": [
    "# Ustawienie nazwy eksperymentu\n",
    "mlflow.set_experiment(\"Reastaurant revenue\")"
   ]
  },
  {
   "cell_type": "code",
   "execution_count": 7,
   "metadata": {},
   "outputs": [],
   "source": [
    "# Model i ewaluacja\n",
    "min_samples_leaf  = 10\n",
    "model = GradientBoostingRegressor(min_samples_leaf=min_samples_leaf).fit(train_x,train_y)\n",
    "r2_train = model.score(train_x,train_y)\n",
    "r2_test = model.score(test_x,test_y)"
   ]
  },
  {
   "cell_type": "code",
   "execution_count": null,
   "metadata": {},
   "outputs": [],
   "source": [
    "# Logowanie modelu\n",
    "with mlflow.start_run():\n",
    "    mlflow.log_param('min_samples_leaf', min_samples_leaf)\n",
    "    mlflow.log_metric('r2_train',r2_train)\n",
    "    mlflow.log_metric('r2_test',r2_test)\n",
    "    signature = infer_signature(train_x, model.predict(train_x))\n",
    "    model_info = mlflow.sklearn.log_model(\n",
    "        sk_model = model,\n",
    "        artifact_path = 'restaurant_model',\n",
    "        signature = signature,\n",
    "        input_example = train_x,\n",
    "        registered_model_name = \"restaurant_model_v1\"\n",
    "    )"
   ]
  },
  {
   "cell_type": "code",
   "execution_count": null,
   "metadata": {},
   "outputs": [],
   "source": []
  },
  {
   "cell_type": "code",
   "execution_count": 9,
   "metadata": {},
   "outputs": [],
   "source": [
    "# Druga wersja\n",
    "min_samples_leaf  = 20\n",
    "model = GradientBoostingRegressor(min_samples_leaf=min_samples_leaf).fit(train_x,train_y)\n",
    "r2_train = model.score(train_x,train_y)\n",
    "r2_test = model.score(test_x,test_y)"
   ]
  },
  {
   "cell_type": "code",
   "execution_count": null,
   "metadata": {},
   "outputs": [],
   "source": [
    "# Logowanie nowej wersji\n",
    "with mlflow.start_run():\n",
    "    mlflow.log_param('min_samples_leaf', min_samples_leaf)\n",
    "    mlflow.log_metric('r2_train',r2_train)\n",
    "    mlflow.log_metric('r2_test',r2_test)\n",
    "    signature = infer_signature(train_x, model.predict(train_x))\n",
    "    model_info = mlflow.sklearn.log_model(\n",
    "        sk_model = model,\n",
    "        artifact_path = 'restaurant_model',\n",
    "        signature = signature,\n",
    "        input_example = train_x,\n",
    "        registered_model_name = \"restaurant_model_v2\"\n",
    "    )"
   ]
  },
  {
   "cell_type": "code",
   "execution_count": null,
   "metadata": {},
   "outputs": [],
   "source": [
    "# Logowanie nowej wersji\n",
    "with mlflow.start_run():\n",
    "    mlflow.log_param('min_samples_leaf', min_samples_leaf)\n",
    "    mlflow.log_metric('r2_train',r2_train)\n",
    "    mlflow.log_metric('r2_test',r2_test)\n",
    "    signature = infer_signature(train_x, model.predict(train_x))\n",
    "    model_info = mlflow.sklearn.log_model(\n",
    "        sk_model = model,\n",
    "        artifact_path = 'restaurant_model',\n",
    "        signature = signature,\n",
    "        input_example = train_x,\n",
    "        registered_model_name = \"restaurant_model_v1\"\n",
    "    )"
   ]
  },
  {
   "cell_type": "code",
   "execution_count": null,
   "metadata": {},
   "outputs": [],
   "source": [
    "model_info.model_uri"
   ]
  },
  {
   "cell_type": "code",
   "execution_count": null,
   "metadata": {},
   "outputs": [],
   "source": [
    "# ładowanie modelu \n",
    "loaded_model  =mlflow.pyfunc.load_model(model_info.model_uri)"
   ]
  },
  {
   "cell_type": "code",
   "execution_count": 22,
   "metadata": {},
   "outputs": [],
   "source": [
    "# Predykcje\n",
    "preds = loaded_model.predict(test_x)"
   ]
  },
  {
   "cell_type": "code",
   "execution_count": null,
   "metadata": {},
   "outputs": [],
   "source": [
    "loaded_model_2 = mlflow.sklearn.load_model(model_info.model_uri)"
   ]
  },
  {
   "cell_type": "code",
   "execution_count": null,
   "metadata": {},
   "outputs": [],
   "source": [
    "loaded_model_2"
   ]
  },
  {
   "cell_type": "code",
   "execution_count": null,
   "metadata": {},
   "outputs": [],
   "source": [
    "loaded_model_2.feature_names_in_"
   ]
  },
  {
   "cell_type": "code",
   "execution_count": null,
   "metadata": {},
   "outputs": [],
   "source": [
    "# dodanie opisu\n",
    "client = MlflowClient()\n",
    "client.update_model_version(name = 'restaurant_model_v1',\n",
    "                            version =1 ,\n",
    "                            description='This is the first version of the model.')"
   ]
  },
  {
   "cell_type": "code",
   "execution_count": 30,
   "metadata": {},
   "outputs": [],
   "source": [
    "# Zmiana nazwy modelu\n",
    "client.rename_registered_model(name = 'restaurant_model_v1',\n",
    "                               new_name= 'restaurant_model_production')"
   ]
  },
  {
   "cell_type": "code",
   "execution_count": 31,
   "metadata": {},
   "outputs": [],
   "source": [
    "# Dodanie tagów\n",
    "client.set_registered_model_tag('restaurant_model_production','env','PROD')"
   ]
  }
 ],
 "metadata": {
  "kernelspec": {
   "display_name": "Python 3",
   "language": "python",
   "name": "python3"
  },
  "language_info": {
   "codemirror_mode": {
    "name": "ipython",
    "version": 3
   },
   "file_extension": ".py",
   "mimetype": "text/x-python",
   "name": "python",
   "nbconvert_exporter": "python",
   "pygments_lexer": "ipython3",
   "version": "3.12.5"
  }
 },
 "nbformat": 4,
 "nbformat_minor": 2
}
