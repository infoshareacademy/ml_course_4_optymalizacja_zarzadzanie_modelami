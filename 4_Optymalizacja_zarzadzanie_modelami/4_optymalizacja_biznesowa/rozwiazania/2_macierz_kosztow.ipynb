{
 "cells": [
  {
   "cell_type": "markdown",
   "metadata": {},
   "source": [
    "# Optymalizacja modelu przy pomocy macierzy kosztów\n",
    "\n",
    "Zbiór do analizy https://www.kaggle.com/datasets/whenamancodes/fraud-detection"
   ]
  },
  {
   "cell_type": "code",
   "execution_count": 1,
   "metadata": {},
   "outputs": [],
   "source": [
    "import pandas as pd\n",
    "from sklearn.model_selection import train_test_split\n",
    "from sklearn.linear_model import LogisticRegression\n",
    "from sklearn.ensemble import RandomForestClassifier\n",
    "from sklearn.metrics import accuracy_score\n",
    "import optuna"
   ]
  },
  {
   "cell_type": "code",
   "execution_count": 2,
   "metadata": {},
   "outputs": [],
   "source": [
    "# puść ten kod, \n",
    "# jeżeli wywołujesz plik  w folderze rozwiąznaia, \n",
    "# a ramka danych znajduje się w folderze data\n",
    "import os \n",
    "os.chdir('../')"
   ]
  },
  {
   "cell_type": "code",
   "execution_count": 3,
   "metadata": {},
   "outputs": [],
   "source": [
    "# Wczytanie danych\n",
    "df = pd.read_csv('data/credit_fraud_sample.csv')\n",
    "del df['Unnamed: 0']"
   ]
  },
  {
   "cell_type": "code",
   "execution_count": null,
   "metadata": {},
   "outputs": [],
   "source": [
    "# nagłówek\n",
    "df.head()"
   ]
  },
  {
   "cell_type": "code",
   "execution_count": null,
   "metadata": {},
   "outputs": [],
   "source": [
    "# korelacja\n",
    "df.corr(method='spearman')['Class']"
   ]
  },
  {
   "cell_type": "code",
   "execution_count": null,
   "metadata": {},
   "outputs": [],
   "source": [
    "# describe\n",
    "df.describe()"
   ]
  },
  {
   "cell_type": "code",
   "execution_count": 8,
   "metadata": {},
   "outputs": [],
   "source": [
    "# Zmienne w modelu\n",
    "x_names = ['V1','V2','V3','V4','V5','V6','V7']"
   ]
  },
  {
   "cell_type": "code",
   "execution_count": 9,
   "metadata": {},
   "outputs": [],
   "source": [
    "# Podział na zbiór treningowy i testowy\n",
    "train_x, test_x,train_y, test_y = train_test_split(df[x_names],df['Class'], test_size=0.3, random_state=1000)"
   ]
  },
  {
   "cell_type": "markdown",
   "metadata": {},
   "source": [
    "## Wagi w modelu"
   ]
  },
  {
   "cell_type": "code",
   "execution_count": 10,
   "metadata": {},
   "outputs": [],
   "source": [
    "m1 = LogisticRegression(class_weight={0:1,1:10}).fit(train_x,train_y)"
   ]
  },
  {
   "cell_type": "code",
   "execution_count": null,
   "metadata": {},
   "outputs": [],
   "source": [
    "m1.score(test_x,test_y)"
   ]
  },
  {
   "cell_type": "markdown",
   "metadata": {},
   "source": [
    "## Macierz kosztów\n",
    "\n",
    "1. Błędna prognoza frauda, który w rzeczywistości jest typową transakcją oznacza niepotrzebny koszt pracownika w wysokości 50. (FP)\n",
    "2. Błędna prognoza, że transakcja nie jest fraudem kosztuje instytucje 1000, z uwagi na koszty prawne. (FN)"
   ]
  },
  {
   "cell_type": "code",
   "execution_count": 12,
   "metadata": {},
   "outputs": [],
   "source": [
    "# Definicje kosztów\n",
    "fp_cost = 50\n",
    "fn_cost = 1000"
   ]
  },
  {
   "cell_type": "code",
   "execution_count": 16,
   "metadata": {},
   "outputs": [],
   "source": [
    "def objective(trial: optuna.Trial):\n",
    "\n",
    "    params = {'n_estimators': trial.suggest_int('n_estimators',10,200),\n",
    "              'min_samples_split': trial.suggest_int('min_samples_split',5,100),\n",
    "              'max_leaf_nodes': trial.suggest_int('max_leaf_nodes',20,100),\n",
    "              'min_impurity_decrease': trial.suggest_float('min_impurity_decrease',0,1)}\n",
    "\n",
    "    model = RandomForestClassifier(**params, random_state=123).fit(train_x,train_y)\n",
    "    df_preds = pd.DataFrame(data=test_y.reset_index(drop=True))\n",
    "    df_preds['pred'] = model.predict(test_x)\n",
    "    fp = ((df_preds['pred']==1) & df_preds['Class']==0).astype(int).sum() * fp_cost\n",
    "    fn = ((df_preds['pred']==0) & df_preds['Class']==1).astype(int).sum() * fn_cost\n",
    "    return fp+fn"
   ]
  },
  {
   "cell_type": "code",
   "execution_count": null,
   "metadata": {},
   "outputs": [],
   "source": [
    "# Stworzenie optymalizacji\n",
    "study = optuna.create_study(direction='minimize',study_name='Cost_matrix_opt', sampler = optuna.samplers.NSGAIISampler())\n",
    "study.optimize(objective, n_trials=50)"
   ]
  },
  {
   "cell_type": "code",
   "execution_count": 19,
   "metadata": {},
   "outputs": [],
   "source": [
    "# Stworzenie modelu\n",
    "model = RandomForestClassifier(**study.best_params, random_state=123).fit(train_x,train_y)"
   ]
  },
  {
   "cell_type": "code",
   "execution_count": 20,
   "metadata": {},
   "outputs": [],
   "source": [
    "# Predykcje \n",
    "df_preds = pd.DataFrame(data=test_y.reset_index(drop=True))\n",
    "df_preds['pred'] = model.predict(test_x)"
   ]
  },
  {
   "cell_type": "code",
   "execution_count": 21,
   "metadata": {},
   "outputs": [],
   "source": [
    "# Sprawdzenie wyniku fukncji\n",
    "fp = ((df_preds['pred']==1) & df_preds['Class']==0).astype(int).sum() * fp_cost\n",
    "fn = ((df_preds['pred']==0) & df_preds['Class']==1).astype(int).sum() * fn_cost"
   ]
  },
  {
   "cell_type": "code",
   "execution_count": null,
   "metadata": {},
   "outputs": [],
   "source": [
    "fp"
   ]
  },
  {
   "cell_type": "code",
   "execution_count": null,
   "metadata": {},
   "outputs": [],
   "source": [
    "fn"
   ]
  },
  {
   "cell_type": "code",
   "execution_count": null,
   "metadata": {},
   "outputs": [],
   "source": [
    "fp+fn"
   ]
  },
  {
   "cell_type": "code",
   "execution_count": null,
   "metadata": {},
   "outputs": [],
   "source": [
    "# Accuracy score\n",
    "accuracy_score(df_preds['Class'],df_preds['pred'])"
   ]
  }
 ],
 "metadata": {
  "kernelspec": {
   "display_name": "Python 3",
   "language": "python",
   "name": "python3"
  },
  "language_info": {
   "codemirror_mode": {
    "name": "ipython",
    "version": 3
   },
   "file_extension": ".py",
   "mimetype": "text/x-python",
   "name": "python",
   "nbconvert_exporter": "python",
   "pygments_lexer": "ipython3",
   "version": "3.12.5"
  }
 },
 "nbformat": 4,
 "nbformat_minor": 2
}
