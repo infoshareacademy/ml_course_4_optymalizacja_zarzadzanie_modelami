{
 "cells": [
  {
   "cell_type": "markdown",
   "metadata": {},
   "source": [
    "# Case study - optymalizacja modelu dla fraudow"
   ]
  },
  {
   "cell_type": "code",
   "execution_count": 1,
   "metadata": {},
   "outputs": [],
   "source": [
    "import pandas as pd\n",
    "import numpy as np\n",
    "from sklearn.model_selection import train_test_split\n",
    "from bayes_opt import BayesianOptimization\n",
    "import lightgbm as lgb\n",
    "import seaborn as sns\n"
   ]
  },
  {
   "cell_type": "code",
   "execution_count": 2,
   "metadata": {},
   "outputs": [],
   "source": [
    "# puść ten kod, \n",
    "# jeżeli wywołujesz plik  w folderze rozwiąznaia, \n",
    "# a ramka danych znajduje się w folderze data\n",
    "import os \n",
    "os.chdir('../')"
   ]
  },
  {
   "cell_type": "code",
   "execution_count": 3,
   "metadata": {},
   "outputs": [],
   "source": [
    "# Wczytanie danych\n",
    "df = pd.read_csv('data/creditcard.csv')\n"
   ]
  },
  {
   "cell_type": "code",
   "execution_count": null,
   "metadata": {},
   "outputs": [],
   "source": [
    "# wielkość ramki\n",
    "df.shape"
   ]
  },
  {
   "cell_type": "code",
   "execution_count": null,
   "metadata": {},
   "outputs": [],
   "source": [
    "# Liczebność klas\n",
    "df['Class'].value_counts()"
   ]
  },
  {
   "cell_type": "code",
   "execution_count": 5,
   "metadata": {},
   "outputs": [],
   "source": [
    "# Podział na zbiór treningowy i testowy\n",
    "train_x, test_x,train_y, test_y = train_test_split(df.drop('Class',axis=1),df['Class'], test_size=0.2, random_state=123)"
   ]
  },
  {
   "cell_type": "code",
   "execution_count": null,
   "metadata": {},
   "outputs": [],
   "source": [
    "# Liczebność klas - train\n",
    "train_y.value_counts()"
   ]
  },
  {
   "cell_type": "code",
   "execution_count": null,
   "metadata": {},
   "outputs": [],
   "source": [
    "# Liczebność klas - test \n",
    "test_y.value_counts()"
   ]
  },
  {
   "cell_type": "markdown",
   "metadata": {},
   "source": [
    "## Minimalizacja kwoty fraudow"
   ]
  },
  {
   "cell_type": "code",
   "execution_count": 8,
   "metadata": {},
   "outputs": [],
   "source": [
    "# użycie lgb.Dataset \n",
    "train_lgb = lgb.Dataset(data=train_x, label= train_y, free_raw_data=False)"
   ]
  },
  {
   "cell_type": "code",
   "execution_count": 10,
   "metadata": {},
   "outputs": [],
   "source": [
    "# Parametry do optymalizacji\n",
    "params = {'max_depth': [3,20],\n",
    "          'min_samples_leaf': [5,50],\n",
    "          'max_leaf_nodes': [20,100],}"
   ]
  },
  {
   "cell_type": "code",
   "execution_count": 9,
   "metadata": {},
   "outputs": [],
   "source": [
    "# Funkcja optymalizacyjna Bayesian maksymalizuje\n",
    "def opt_fun(**params):\n",
    "    params_new = {key: int(round(value)) for key, value in params.items()}\n",
    "    model_opt = lgb.LGBMClassifier(**params_new, random_state=123).fit(train_x,train_y)\n",
    "    test_calc = test_x.copy()\n",
    "    test_calc['pred'] = model_opt.predict(test_x)\n",
    "    test_calc['pred_reversed'] =1 - test_calc['pred']\n",
    "\n",
    "    return - np.sum(test_calc['pred_reversed'] * test_y * test_calc['Amount'])"
   ]
  },
  {
   "cell_type": "code",
   "execution_count": 11,
   "metadata": {},
   "outputs": [],
   "source": [
    "# Obiekt optymalizacji\n",
    "optimization = BayesianOptimization(f  = opt_fun,\n",
    "                                    pbounds=params)"
   ]
  },
  {
   "cell_type": "code",
   "execution_count": null,
   "metadata": {},
   "outputs": [],
   "source": [
    "# optymalizacja\n",
    "optimization.maximize(n_iter=3)"
   ]
  },
  {
   "cell_type": "code",
   "execution_count": null,
   "metadata": {},
   "outputs": [],
   "source": [
    "# wybrane parametry\n",
    "optimization.max"
   ]
  },
  {
   "cell_type": "code",
   "execution_count": null,
   "metadata": {},
   "outputs": [],
   "source": [
    "test_x.loc[test_y==1,'Amount'].sum()"
   ]
  },
  {
   "cell_type": "code",
   "execution_count": 18,
   "metadata": {},
   "outputs": [],
   "source": [
    "# Konwersja do int\n",
    "params_new = {key: int(round(value)) for key, value in optimization.max['params'].items()}"
   ]
  },
  {
   "cell_type": "code",
   "execution_count": null,
   "metadata": {},
   "outputs": [],
   "source": [
    "params_new"
   ]
  },
  {
   "cell_type": "markdown",
   "metadata": {},
   "source": [
    "## Symulacja miesięcznej rezerwy\n",
    "(z wykorzystaniem klasy i prawdopodobieństwa)"
   ]
  },
  {
   "cell_type": "code",
   "execution_count": null,
   "metadata": {},
   "outputs": [],
   "source": [
    "# estymacja wybranego modelu\n",
    "model_final = lgb.LGBMClassifier(**params_new, random_state=123).fit(train_x,train_y)\n"
   ]
  },
  {
   "cell_type": "code",
   "execution_count": 24,
   "metadata": {},
   "outputs": [],
   "source": [
    "# Parametry do optymalizacji\n",
    "n = 100 \n",
    "monthly_number = 20000\n"
   ]
  },
  {
   "cell_type": "code",
   "execution_count": 21,
   "metadata": {},
   "outputs": [],
   "source": [
    "# Przygotowanie test setu\n",
    "test = test_x.copy()\n",
    "test['Class'] = test_y"
   ]
  },
  {
   "cell_type": "code",
   "execution_count": null,
   "metadata": {},
   "outputs": [],
   "source": [
    "# Predykcje\n",
    "test['pred'] = model_final.predict(test_x)\n",
    "test['pred_proba'] = model_final.predict_proba(test_x)[:,1]"
   ]
  },
  {
   "cell_type": "code",
   "execution_count": 33,
   "metadata": {},
   "outputs": [],
   "source": [
    "# Symulacja\n",
    "fp_lost = []\n",
    "fn_lost = []\n",
    "exp_amount = []\n",
    "\n",
    "for i in range(n):\n",
    "    sample_df = test.sample(n=monthly_number,replace= True)\n",
    "    fp = sample_df[(sample_df['Class']==0) & (sample_df['pred']==1)]\n",
    "    fn = sample_df[(sample_df['Class']==1) & (sample_df['pred']==0)]\n",
    "    fp_sum = fp['Amount'].sum()\n",
    "    fn_sum = fn['Amount'].sum()\n",
    "    expected_amount = (sample_df['Amount'] * sample_df['pred_proba']).sum()\n",
    "    fp_lost.append(fp_sum)\n",
    "    fn_lost.append(fn_sum)\n",
    "    exp_amount.append(expected_amount)\n",
    "    "
   ]
  },
  {
   "cell_type": "code",
   "execution_count": 34,
   "metadata": {},
   "outputs": [],
   "source": [
    "# random choice 10 %\n",
    "fp_lost_random = []\n",
    "fn_lost_random = []\n",
    "\n",
    "for i in range(n):\n",
    "    sample_df = test.sample(n=monthly_number,replace= True)\n",
    "    sample_df['random_number'] = np.random.rand(len(sample_df))\n",
    "    sample_df['pred'] = (sample_df['random_number']>=0.9).astype(int)\n",
    "    fp = sample_df[(sample_df['Class']==0) & (sample_df['pred']==1)]\n",
    "    fn = sample_df[(sample_df['Class']==1) & (sample_df['pred']==0)]\n",
    "    fp_sum = fp['Amount'].sum()\n",
    "    fn_sum = fn['Amount'].sum()\n",
    "    fp_lost_random.append(fp_sum)\n",
    "    fn_lost_random.append(fn_sum)\n",
    "\n",
    "    "
   ]
  },
  {
   "cell_type": "code",
   "execution_count": null,
   "metadata": {},
   "outputs": [],
   "source": [
    "# Histogram straty\n",
    "sns.kdeplot(fn_lost)"
   ]
  },
  {
   "cell_type": "code",
   "execution_count": null,
   "metadata": {},
   "outputs": [],
   "source": [
    "# describe straty\n",
    "pd.Series(fn_lost).describe()"
   ]
  },
  {
   "cell_type": "code",
   "execution_count": null,
   "metadata": {},
   "outputs": [],
   "source": [
    "pd.Series(fn_lost).quantile(q=[0.025,0.975])"
   ]
  },
  {
   "cell_type": "code",
   "execution_count": null,
   "metadata": {},
   "outputs": [],
   "source": [
    "# Wartość oczekiwana na podstawie pdp\n",
    "pd.Series(exp_amount).describe()"
   ]
  },
  {
   "cell_type": "code",
   "execution_count": null,
   "metadata": {},
   "outputs": [],
   "source": [
    "# Strata przy 10% losowych sprawdzeń\n",
    "pd.Series(fn_lost_random).describe()"
   ]
  }
 ],
 "metadata": {
  "kernelspec": {
   "display_name": "Python 3",
   "language": "python",
   "name": "python3"
  },
  "language_info": {
   "codemirror_mode": {
    "name": "ipython",
    "version": 3
   },
   "file_extension": ".py",
   "mimetype": "text/x-python",
   "name": "python",
   "nbconvert_exporter": "python",
   "pygments_lexer": "ipython3",
   "version": "3.12.5"
  }
 },
 "nbformat": 4,
 "nbformat_minor": 2
}
