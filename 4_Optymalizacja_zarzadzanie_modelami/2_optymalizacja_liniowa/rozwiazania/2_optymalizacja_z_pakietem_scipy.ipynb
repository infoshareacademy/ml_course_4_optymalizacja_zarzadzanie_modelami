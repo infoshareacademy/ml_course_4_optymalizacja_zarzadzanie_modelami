{
 "cells": [
  {
   "cell_type": "markdown",
   "metadata": {},
   "source": [
    "# Optymalizacja liniowa - pakiet scipy\n",
    "\n",
    "Do rozwiązania mamy problem optymalizacyjny. Firma chce przeprowadzać dwa rodzaje kampanii marketingowych dla flagowego produktu.\n",
    "1. Kampania A:\n",
    "- Czas przygotowania: 10 godzin\n",
    "- Długość czasu antenowego 5 godzin\n",
    "- Szacowany zysk z jednej kampanii 10\n",
    "\n",
    "2. Kampania B:\n",
    "- Czas przygotowania: 6 godzin\n",
    "- Długość czasu antenowego 4 godzin\n",
    "- Szacowany zysk z jednej kampanii 8\n",
    "\n",
    "Firma w trakcie roku chce przeznaczyć:\n",
    "- Maksymalnie 120 godzin pracy zepsołu na przygotowanie kampanii\n",
    "- Wykorzystać na kampanię maksymalnie 45 godzin\n",
    "- Kampanii nie może być więcej niż 12.\n"
   ]
  },
  {
   "cell_type": "markdown",
   "metadata": {},
   "source": [
    "Formułowanie ograniczeń\n",
    "\n",
    "1. Czas pracy:\n",
    "$ 10A + 6B \\le  120 $\n",
    "\n",
    "2. Czas antenowy:\n",
    "$ 5A + 4B  \\le 45 $\n",
    "\n",
    "3. Liczba kampanii:\n",
    "$ A + B \\le 12 $\n",
    "\n",
    "Maksymalna liczba danej kampanii:\n",
    "\n",
    "1. Załóżmy, że mamy tylko kampanię A:\n",
    "\n",
    "$ 10A \\le 120  => A \\le 12 $\n",
    "\n",
    "$ 5A \\le 45 => A \\le 9 $\n",
    "\n",
    "$ A \\le 12 $\n",
    "\n",
    "Co, biorąc minimum daje $ A \\le 9 $\n",
    "\n",
    "2. Załóżmy, że mamy tylko kampanię B:\n",
    "\n",
    "$ 6B  \\le 120 => B \\le 20$ \n",
    "\n",
    "$ 4B \\le 45 => B \\le 11.25 $\n",
    "\n",
    "$ B \\le 12 $\n",
    "\n",
    "Biorąc minimum i część całkowitą dostajemy $ B \\le 11 $\n",
    "\n",
    "Dodatkowo, A i B są liczbami naturalnymi."
   ]
  },
  {
   "cell_type": "code",
   "execution_count": null,
   "metadata": {},
   "outputs": [],
   "source": [
    "#pip install scipy"
   ]
  },
  {
   "cell_type": "code",
   "execution_count": 1,
   "metadata": {},
   "outputs": [],
   "source": [
    "from scipy.optimize import linprog"
   ]
  },
  {
   "cell_type": "code",
   "execution_count": 4,
   "metadata": {},
   "outputs": [],
   "source": [
    "# Lista zysków\n",
    "profits = [-10,-8]"
   ]
  },
  {
   "cell_type": "code",
   "execution_count": 8,
   "metadata": {},
   "outputs": [],
   "source": [
    "# Współczynniki po lewej stronie równań\n",
    "limitations_left = [[10,6],\n",
    "                    [5,4],\n",
    "                    [1,1]]"
   ]
  },
  {
   "cell_type": "code",
   "execution_count": 6,
   "metadata": {},
   "outputs": [],
   "source": [
    "# Współczynniki po prawej stronie równań\n",
    "limitations_right = [120,45,12]"
   ]
  },
  {
   "cell_type": "code",
   "execution_count": 2,
   "metadata": {},
   "outputs": [],
   "source": [
    "# Zakres zmiennych (liczba kampanii nie może być ujemna)\n",
    "A_bounds = (0, None)\n",
    "B_bounds = (0, None)"
   ]
  },
  {
   "cell_type": "code",
   "execution_count": 9,
   "metadata": {},
   "outputs": [],
   "source": [
    "# Optymalizacja\n",
    "result = linprog(c= profits,\n",
    "                A_ub = limitations_left,\n",
    "                b_ub = limitations_right,\n",
    "                bounds = [A_bounds,B_bounds],\n",
    "                method = 'highs')"
   ]
  },
  {
   "cell_type": "code",
   "execution_count": 10,
   "metadata": {},
   "outputs": [
    {
     "data": {
      "text/plain": [
       "True"
      ]
     },
     "execution_count": 10,
     "metadata": {},
     "output_type": "execute_result"
    }
   ],
   "source": [
    "result.success"
   ]
  },
  {
   "cell_type": "code",
   "execution_count": 11,
   "metadata": {},
   "outputs": [
    {
     "data": {
      "text/plain": [
       "array([ 0.  , 11.25])"
      ]
     },
     "execution_count": 11,
     "metadata": {},
     "output_type": "execute_result"
    }
   ],
   "source": [
    "# Współczynniki\n",
    "result.x"
   ]
  },
  {
   "cell_type": "code",
   "execution_count": 12,
   "metadata": {},
   "outputs": [
    {
     "data": {
      "text/plain": [
       "-90.0"
      ]
     },
     "execution_count": 12,
     "metadata": {},
     "output_type": "execute_result"
    }
   ],
   "source": [
    "# Wynik funkcji\n",
    "result.fun"
   ]
  },
  {
   "cell_type": "markdown",
   "metadata": {},
   "source": [
    "## Mixed integer linear programming"
   ]
  },
  {
   "cell_type": "code",
   "execution_count": 14,
   "metadata": {},
   "outputs": [],
   "source": [
    "from scipy.optimize import milp\n",
    "from scipy.optimize import Bounds, LinearConstraint"
   ]
  },
  {
   "cell_type": "code",
   "execution_count": 15,
   "metadata": {},
   "outputs": [],
   "source": [
    "# Tworzenie ograniczeń liniowych\n",
    "constraints = LinearConstraint(limitations_left,[0,0,0],limitations_right)"
   ]
  },
  {
   "cell_type": "code",
   "execution_count": 16,
   "metadata": {},
   "outputs": [],
   "source": [
    "# Ograniczenia na zmienne decyzyjne (x_A, x_B >= 0 i są całkowite)\n",
    "bounds = Bounds([0,0],[float('inf'),float('inf')])"
   ]
  },
  {
   "cell_type": "code",
   "execution_count": 17,
   "metadata": {},
   "outputs": [],
   "source": [
    "# Wymaganie, aby zmienne były całkowite\n",
    "integrality =[1,1]"
   ]
  },
  {
   "cell_type": "code",
   "execution_count": 19,
   "metadata": {},
   "outputs": [],
   "source": [
    "# Rozwiązywanie problemu\n",
    "results = milp(c=profits, constraints = constraints, bounds=bounds,integrality = integrality)"
   ]
  },
  {
   "cell_type": "code",
   "execution_count": 21,
   "metadata": {},
   "outputs": [
    {
     "data": {
      "text/plain": [
       "array([ 9., -0.])"
      ]
     },
     "execution_count": 21,
     "metadata": {},
     "output_type": "execute_result"
    }
   ],
   "source": [
    "# Liczba kampanii\n",
    "results.x"
   ]
  },
  {
   "cell_type": "code",
   "execution_count": 22,
   "metadata": {},
   "outputs": [
    {
     "data": {
      "text/plain": [
       "90.0"
      ]
     },
     "execution_count": 22,
     "metadata": {},
     "output_type": "execute_result"
    }
   ],
   "source": [
    "# Wynik zysku\n",
    "-results.fun"
   ]
  },
  {
   "cell_type": "markdown",
   "metadata": {},
   "source": [
    "## Rozwiązywanie równań za pomocą scipy\n",
    "\n",
    "Układ równań:\n",
    "\n",
    "$x^2 +y^2-1= 0$\n",
    "\n",
    "$x^2+ y = 0$"
   ]
  },
  {
   "cell_type": "code",
   "execution_count": 23,
   "metadata": {},
   "outputs": [],
   "source": [
    "from scipy.optimize import root"
   ]
  },
  {
   "cell_type": "code",
   "execution_count": 25,
   "metadata": {},
   "outputs": [],
   "source": [
    "# Definicja układu równań\n",
    "def equations(variables):\n",
    "    x,y = variables\n",
    "    eq1 = x**2 + y**2 -1 \n",
    "    eq2 = x**2 -y\n",
    "    return [eq1,eq2]"
   ]
  },
  {
   "cell_type": "code",
   "execution_count": 26,
   "metadata": {},
   "outputs": [],
   "source": [
    "# Punkt początkowy dla poszukiwań\n",
    "initial_guess = [0.5,0.5]\n"
   ]
  },
  {
   "cell_type": "code",
   "execution_count": 27,
   "metadata": {},
   "outputs": [],
   "source": [
    "# Rozwiązanie układu równań\n",
    "solution = root(equations,initial_guess)"
   ]
  },
  {
   "cell_type": "code",
   "execution_count": 28,
   "metadata": {},
   "outputs": [
    {
     "data": {
      "text/plain": [
       "array([0.78615138, 0.61803399])"
      ]
     },
     "execution_count": 28,
     "metadata": {},
     "output_type": "execute_result"
    }
   ],
   "source": [
    "# Rozwiązanie\n",
    "solution.x"
   ]
  }
 ],
 "metadata": {
  "kernelspec": {
   "display_name": "Python 3",
   "language": "python",
   "name": "python3"
  },
  "language_info": {
   "codemirror_mode": {
    "name": "ipython",
    "version": 3
   },
   "file_extension": ".py",
   "mimetype": "text/x-python",
   "name": "python",
   "nbconvert_exporter": "python",
   "pygments_lexer": "ipython3",
   "version": "3.12.5"
  }
 },
 "nbformat": 4,
 "nbformat_minor": 2
}
