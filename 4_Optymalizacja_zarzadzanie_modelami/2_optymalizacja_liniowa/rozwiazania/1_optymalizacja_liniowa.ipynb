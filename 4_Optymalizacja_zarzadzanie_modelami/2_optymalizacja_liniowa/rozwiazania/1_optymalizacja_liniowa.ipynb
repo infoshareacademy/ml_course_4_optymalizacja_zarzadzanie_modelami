{
 "cells": [
  {
   "cell_type": "markdown",
   "metadata": {},
   "source": [
    "# Optymalizacja liniowa\n",
    "\n",
    "Do rozwiązania mamy problem optymalizacyjny. Firma chce przeprowadzać dwa rodzaje kampanii marketingowych dla flagowego produktu.\n",
    "1. Kampania A:\n",
    "- Czas przygotowania: 10 godzin\n",
    "- Długość czasu antenowego 5 godzin\n",
    "- Szacowany zysk z jednej kampanii 10\n",
    "\n",
    "2. Kampania B:\n",
    "- Czas przygotowania: 6 godzin\n",
    "- Długość czasu antenowego 4 godzin\n",
    "- Szacowany zysk z jednej kampanii 8\n",
    "\n",
    "Firma w trakcie roku chce przeznaczyć:\n",
    "- Maksymalnie 120 godzin pracy zepsołu na przygotowanie kampanii\n",
    "- Wykorzystać na kampanię maksymalnie 45 godzin\n",
    "- Kampanii nie może być więcej niż 12.\n",
    "\n"
   ]
  },
  {
   "cell_type": "markdown",
   "metadata": {},
   "source": [
    "Formułowanie ograniczeń\n",
    "\n",
    "1. Czas pracy:\n",
    "$ 10A + 6B \\le  120 $\n",
    "\n",
    "2. Czas antenowy:\n",
    "$ 5A + 4B  \\le 45 $\n",
    "\n",
    "3. Liczba kampanii:\n",
    "$ A + B \\le 12 $"
   ]
  },
  {
   "cell_type": "markdown",
   "metadata": {},
   "source": [
    "Maksymalna liczba danej kampanii:\n",
    "\n",
    "1. Załóżmy, że mamy tylko kampanię A:\n",
    "\n",
    "$ 10A \\le 120  => A \\le 12 $\n",
    "\n",
    "$ 5A \\le 45 => A \\le 9 $\n",
    "\n",
    "$ A \\le 12 $\n",
    "\n",
    "Co, biorąc minimum daje $ A \\le 9 $\n",
    "\n",
    "2. Załóżmy, że mamy tylko kampanię B:\n",
    "\n",
    "$ 6B  \\le 120 => B \\le 20$ \n",
    "\n",
    "$ 4B \\le 45 => B \\le 11.25 $\n",
    "\n",
    "$ B \\le 12 $\n",
    "\n",
    "Biorąc minimum i część całkowitą dostajemy $ B \\le 11 $\n",
    "\n",
    "Dodatkowo, A i B są liczbami naturalnymi."
   ]
  },
  {
   "cell_type": "code",
   "execution_count": 1,
   "metadata": {},
   "outputs": [],
   "source": [
    "import numpy as np"
   ]
  },
  {
   "cell_type": "code",
   "execution_count": 2,
   "metadata": {},
   "outputs": [],
   "source": [
    "# Czas poświęcony kampanii A\n",
    "work_time_A = 10\n",
    "tv_time_A = 5\n"
   ]
  },
  {
   "cell_type": "code",
   "execution_count": 3,
   "metadata": {},
   "outputs": [],
   "source": [
    "# Czas poświęcony kampanii B\n",
    "work_time_B = 6\n",
    "tv_time_B = 4"
   ]
  },
  {
   "cell_type": "code",
   "execution_count": 4,
   "metadata": {},
   "outputs": [],
   "source": [
    "# Ograniczenia\n",
    "max_time_spend = 120\n",
    "max_tv_time_used = 45\n",
    "max_number_of_campaigns = 12"
   ]
  },
  {
   "cell_type": "code",
   "execution_count": 5,
   "metadata": {},
   "outputs": [
    {
     "data": {
      "text/plain": [
       "12"
      ]
     },
     "execution_count": 5,
     "metadata": {},
     "output_type": "execute_result"
    }
   ],
   "source": [
    "max_time_spend // work_time_A"
   ]
  },
  {
   "cell_type": "code",
   "execution_count": 6,
   "metadata": {},
   "outputs": [
    {
     "data": {
      "text/plain": [
       "9"
      ]
     },
     "execution_count": 6,
     "metadata": {},
     "output_type": "execute_result"
    }
   ],
   "source": [
    "# Maksymalna liczba kampanii A\n",
    "max_A = np.min([max_time_spend // work_time_A,\n",
    "               max_tv_time_used // tv_time_A,\n",
    "               max_number_of_campaigns])\n",
    "max_A"
   ]
  },
  {
   "cell_type": "code",
   "execution_count": 7,
   "metadata": {},
   "outputs": [
    {
     "data": {
      "text/plain": [
       "11"
      ]
     },
     "execution_count": 7,
     "metadata": {},
     "output_type": "execute_result"
    }
   ],
   "source": [
    "# Maksymalna liczba kampanii B\n",
    "max_B = np.min([max_time_spend // work_time_B,\n",
    "               max_tv_time_used // tv_time_B,\n",
    "               max_number_of_campaigns])\n",
    "max_B"
   ]
  },
  {
   "cell_type": "code",
   "execution_count": 8,
   "metadata": {},
   "outputs": [],
   "source": [
    "# zysk\n",
    "profit_A = 10\n",
    "profit_B = 8"
   ]
  },
  {
   "cell_type": "code",
   "execution_count": 9,
   "metadata": {},
   "outputs": [],
   "source": [
    "# Zmienne do przechowywania najlepszego rozwiązania\n",
    "max_profit = 0\n",
    "best_A = 0\n",
    "best_B = 0 "
   ]
  },
  {
   "cell_type": "code",
   "execution_count": 10,
   "metadata": {},
   "outputs": [],
   "source": [
    "# Iteracja po możliwych wartościach A i B (produkty muszą być >= 0)\n",
    "for A in range(0, max_A + 1):  \n",
    "    for B in range(0, max_B + 1): \n",
    "        total_work = work_time_A * A + work_time_B * B\n",
    "        total_tv_time = tv_time_A * A + tv_time_B * B\n",
    "        campaigns_number = A + B\n",
    "\n",
    "        if total_work <= max_time_spend and total_tv_time <= max_tv_time_used and campaigns_number <= max_number_of_campaigns:\n",
    "            profit = profit_A * A + profit_B * B\n",
    "            if profit > max_profit: \n",
    "                max_profit = profit\n",
    "                best_A = A \n",
    "                best_B = B"
   ]
  },
  {
   "cell_type": "code",
   "execution_count": 11,
   "metadata": {},
   "outputs": [
    {
     "name": "stdout",
     "output_type": "stream",
     "text": [
      "Kampania produktu A: 1\n",
      "Kampania produktu B: 10\n",
      "Maksymalny zysk: 90\n"
     ]
    }
   ],
   "source": [
    "# Printowanie wyników\n",
    "print(f\"Kampania produktu A: {best_A}\")\n",
    "print(f\"Kampania produktu B: {best_B}\")\n",
    "print(f\"Maksymalny zysk: {max_profit}\")"
   ]
  },
  {
   "cell_type": "markdown",
   "metadata": {},
   "source": [
    "## Zadanie \n",
    "Zmodyfikuj parametry obliczeń. Czy uzyskasz inne wyniki?"
   ]
  },
  {
   "cell_type": "code",
   "execution_count": 12,
   "metadata": {},
   "outputs": [],
   "source": [
    "# Parametry\n",
    "work_time_A = 8\n",
    "tv_time_A =  4\n",
    "work_time_B = 6\n",
    "tv_time_B =  3\n",
    "profit_A = 10    \n",
    "profit_B = 6"
   ]
  },
  {
   "cell_type": "code",
   "execution_count": 13,
   "metadata": {},
   "outputs": [],
   "source": [
    "# Zmienne do przechowywania najlepszego rozwiązania\n",
    "max_profit = 0\n",
    "best_A = 0\n",
    "best_B = 0"
   ]
  },
  {
   "cell_type": "code",
   "execution_count": 14,
   "metadata": {},
   "outputs": [
    {
     "data": {
      "text/plain": [
       "11"
      ]
     },
     "execution_count": 14,
     "metadata": {},
     "output_type": "execute_result"
    }
   ],
   "source": [
    "# Max A\n",
    "max_A = np.min([max_time_spend // work_time_A, \n",
    "               max_tv_time_used// tv_time_A,\n",
    "               max_number_of_campaigns]\n",
    "             ) \n",
    "max_A"
   ]
  },
  {
   "cell_type": "code",
   "execution_count": 15,
   "metadata": {},
   "outputs": [
    {
     "data": {
      "text/plain": [
       "12"
      ]
     },
     "execution_count": 15,
     "metadata": {},
     "output_type": "execute_result"
    }
   ],
   "source": [
    "# Max B\n",
    "max_B = np.min([max_time_spend // work_time_B, \n",
    "               max_tv_time_used// tv_time_B,\n",
    "               max_number_of_campaigns]\n",
    "             ) \n",
    "max_B"
   ]
  },
  {
   "cell_type": "code",
   "execution_count": 16,
   "metadata": {},
   "outputs": [
    {
     "name": "stdout",
     "output_type": "stream",
     "text": [
      "Kampania produktu A: 11\n",
      "Kampania produktu B: 0\n",
      "Maksymalny zysk: 110\n"
     ]
    }
   ],
   "source": [
    "# Wyniki\n",
    "# Iteracja po możliwych wartościach A i B (produkty muszą być >= 0)\n",
    "for A in range(0, max_A + 1):  # Maksymalna możliwa liczba produktów A\n",
    "    for B in range(0, max_B + 1):  # Maksymalna możliwa liczba produktów B\n",
    "       \n",
    "        total_work = work_time_A * A + work_time_B * B\n",
    "        total_tv_time = tv_time_A * A + tv_time_B * B\n",
    "        campaings_number = A+B\n",
    "        \n",
    "        if total_work <= max_time_spend and total_tv_time <= max_tv_time_used and campaings_number<=max_number_of_campaigns:\n",
    "            \n",
    "            profit = profit_A * A + profit_B * B\n",
    "            \n",
    "            \n",
    "            if profit > max_profit:\n",
    "                max_profit = profit\n",
    "                best_A = A\n",
    "                best_B = B\n",
    "print(f\"Kampania produktu A: {best_A}\")\n",
    "print(f\"Kampania produktu B: {best_B}\")\n",
    "print(f\"Maksymalny zysk: {max_profit}\")"
   ]
  }
 ],
 "metadata": {
  "kernelspec": {
   "display_name": "Python 3",
   "language": "python",
   "name": "python3"
  },
  "language_info": {
   "codemirror_mode": {
    "name": "ipython",
    "version": 3
   },
   "file_extension": ".py",
   "mimetype": "text/x-python",
   "name": "python",
   "nbconvert_exporter": "python",
   "pygments_lexer": "ipython3",
   "version": "3.12.5"
  }
 },
 "nbformat": 4,
 "nbformat_minor": 2
}
