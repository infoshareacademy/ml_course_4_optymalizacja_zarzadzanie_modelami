{
 "cells": [
  {
   "cell_type": "markdown",
   "metadata": {},
   "source": [
    "# Optuna - wstęp\n",
    "\n",
    "Dokumentacja: https://optuna.readthedocs.io/en/stable/reference/index.html"
   ]
  },
  {
   "cell_type": "code",
   "execution_count": 1,
   "metadata": {},
   "outputs": [],
   "source": [
    "import optuna"
   ]
  },
  {
   "cell_type": "markdown",
   "metadata": {},
   "source": [
    "## Definicja objective"
   ]
  },
  {
   "cell_type": "code",
   "execution_count": null,
   "metadata": {},
   "outputs": [],
   "source": [
    "# Definiowanie funkcji\n",
    "def objective(trial: optuna.Trial):\n",
    "    pass"
   ]
  },
  {
   "cell_type": "code",
   "execution_count": 2,
   "metadata": {},
   "outputs": [],
   "source": [
    "# Dodawanie parametrów do optymalizacji\n",
    "def objective(trial: optuna.Trial) -> float:\n",
    "    share_1 = trial.suggest_float('share_1',0,1)\n",
    "    number_1 = trial.suggest_int('number_1',0,100)\n",
    "    number_2 = trial.suggest_discrete_uniform('number_2',0,100)\n",
    "    share_2 = trial.suggest_uniform('share_2',0,1)\n",
    "\n",
    "    if share_1>0.9:\n",
    "        share_fin = share_2\n",
    "    else:\n",
    "        share_fin = share_1\n",
    "    return share_fin *number_1 + share_fin * number_2"
   ]
  },
  {
   "cell_type": "code",
   "execution_count": 6,
   "metadata": {},
   "outputs": [],
   "source": [
    "# Parametr categorical\n",
    "def objective(trial: optuna.Trial) -> float:\n",
    "    share_1 = trial.suggest_float('share_1',0,1)\n",
    "    number_1 = trial.suggest_int('number_1',0,100)\n",
    "    number_2 = trial.suggest_discrete_uniform('number_2',0,100,q=1)\n",
    "    share_2 = trial.suggest_uniform('share_2',0,1)\n",
    "    share_to_use = trial.suggest_categorical('share_to_use',['share_1','share_2'])\n",
    "\n",
    "    if share_to_use =='share_2':\n",
    "        share_fin = share_2\n",
    "    else:\n",
    "        share_fin = share_1\n",
    "    return share_fin *number_1 + share_fin * number_2"
   ]
  },
  {
   "cell_type": "code",
   "execution_count": null,
   "metadata": {},
   "outputs": [],
   "source": [
    "# Stworzenie optymalizacji\n",
    "study = optuna.create_study(direction='maximize',study_name='iloczyn_sprawdzenie')"
   ]
  },
  {
   "cell_type": "code",
   "execution_count": null,
   "metadata": {},
   "outputs": [],
   "source": [
    "# Start optymalizacji\n",
    "study.optimize(objective,n_trials=5)"
   ]
  },
  {
   "cell_type": "code",
   "execution_count": null,
   "metadata": {},
   "outputs": [],
   "source": [
    "# najlepsze parametry\n",
    "study.best_params"
   ]
  },
  {
   "cell_type": "code",
   "execution_count": null,
   "metadata": {},
   "outputs": [],
   "source": [
    "# najlepsza wartość\n",
    "study.best_value"
   ]
  },
  {
   "cell_type": "code",
   "execution_count": 10,
   "metadata": {},
   "outputs": [],
   "source": [
    "from optuna.visualization import plot_optimization_history, plot_param_importances"
   ]
  },
  {
   "cell_type": "code",
   "execution_count": null,
   "metadata": {},
   "outputs": [],
   "source": [
    "# historia optymalizacji\n",
    "plot_optimization_history(study)"
   ]
  },
  {
   "cell_type": "code",
   "execution_count": null,
   "metadata": {},
   "outputs": [],
   "source": [
    "# Ważność zmiennych\n",
    "plot_param_importances(study)"
   ]
  }
 ],
 "metadata": {
  "kernelspec": {
   "display_name": "Python 3",
   "language": "python",
   "name": "python3"
  },
  "language_info": {
   "codemirror_mode": {
    "name": "ipython",
    "version": 3
   },
   "file_extension": ".py",
   "mimetype": "text/x-python",
   "name": "python",
   "nbconvert_exporter": "python",
   "pygments_lexer": "ipython3",
   "version": "3.12.5"
  }
 },
 "nbformat": 4,
 "nbformat_minor": 2
}
