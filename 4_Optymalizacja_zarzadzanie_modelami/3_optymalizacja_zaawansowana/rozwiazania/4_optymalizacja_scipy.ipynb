{
 "cells": [
  {
   "cell_type": "markdown",
   "metadata": {},
   "source": [
    "# Optymalizacja hiperparametrów w bibliotece scipy\n",
    "\n",
    "Zbiór danych do analizy: https://www.kaggle.com/datasets/prishasawhney/mushroom-dataset\n",
    "\n",
    "Mamy dane dotyczące grzybów. Model ma za zadanie ocenić, czy grzyb jest jadalny.\n",
    "Cel biznesowy: Stworzenie aplikacji, która pomoże użytkownikowi w ocenie czy grzyb jest jadalny, poprawiając bezpieczeństwo.\n",
    "\n",
    "Zmienne:\n",
    "- Cap Diameter\n",
    "- Cap Shape\n",
    "- Gill Attachment\n",
    "- Gill Color\n",
    "- Stem Height\n",
    "- Stem Width\n",
    "- Stem Color\n",
    "- Season\n",
    "- Target Class - Is it edible or not?"
   ]
  },
  {
   "cell_type": "code",
   "execution_count": 1,
   "metadata": {},
   "outputs": [],
   "source": [
    "import pandas as pd\n",
    "from scipy.optimize import differential_evolution , minimize\n",
    "from sklearn.model_selection import train_test_split\n",
    "from sklearn.ensemble import HistGradientBoostingClassifier\n",
    "from sklearn.metrics import classification_report\n"
   ]
  },
  {
   "cell_type": "code",
   "execution_count": 2,
   "metadata": {},
   "outputs": [],
   "source": [
    "# puść ten kod, \n",
    "# jeżeli wywołujesz plik  w folderze rozwiąznaia, \n",
    "# a ramka danych znajduje się w folderze data\n",
    "import os \n",
    "os.chdir('../')"
   ]
  },
  {
   "cell_type": "code",
   "execution_count": 3,
   "metadata": {},
   "outputs": [],
   "source": [
    "# Pobranie danych\n",
    "df = pd.read_csv('data/mushroom.csv')"
   ]
  },
  {
   "cell_type": "code",
   "execution_count": null,
   "metadata": {},
   "outputs": [],
   "source": [
    "# nagłówek \n",
    "df.head()"
   ]
  },
  {
   "cell_type": "code",
   "execution_count": null,
   "metadata": {},
   "outputs": [],
   "source": [
    "df.shape"
   ]
  },
  {
   "cell_type": "code",
   "execution_count": 5,
   "metadata": {},
   "outputs": [],
   "source": [
    "# Podział na zbiór treningowy i testowy\n",
    "train_x, test_x,train_y, test_y = train_test_split(df.drop('class',axis=1),df['class'], test_size=0.2, random_state=1000)"
   ]
  },
  {
   "cell_type": "code",
   "execution_count": 6,
   "metadata": {},
   "outputs": [],
   "source": [
    "# Podział na zbiór treningowy i testowy\n",
    "train_x, valid_x,train_y, valid_y = train_test_split(train_x,train_y, test_size=0.2, random_state=1000)"
   ]
  },
  {
   "cell_type": "code",
   "execution_count": 7,
   "metadata": {},
   "outputs": [],
   "source": [
    "# Pobranie funkcji\n",
    "from scipy_funkcje import optimization_function"
   ]
  },
  {
   "cell_type": "code",
   "execution_count": 27,
   "metadata": {},
   "outputs": [],
   "source": [
    "# Granice przeszukiwan\n",
    "bounds = [(0.00001,1),\n",
    "          (5,50),\n",
    "          (0,5)]"
   ]
  },
  {
   "cell_type": "markdown",
   "metadata": {},
   "source": [
    "## Minimize"
   ]
  },
  {
   "cell_type": "code",
   "execution_count": 20,
   "metadata": {},
   "outputs": [],
   "source": [
    "# Parametry inicjalne\n",
    "x0 = [0.3,5,0]"
   ]
  },
  {
   "cell_type": "code",
   "execution_count": 22,
   "metadata": {},
   "outputs": [],
   "source": [
    "# Minimalizacja\n",
    "opt_minimize = minimize(fun = optimization_function,\n",
    "                        x0 = x0,\n",
    "                        bounds= bounds,\n",
    "                        args=(train_x,train_y, test_x,test_y),\n",
    "                        options={'maxiter': 20})"
   ]
  },
  {
   "cell_type": "code",
   "execution_count": null,
   "metadata": {},
   "outputs": [],
   "source": [
    "# Najlepsze parametry\n",
    "best_params = opt_minimize.x\n",
    "best_params"
   ]
  },
  {
   "cell_type": "code",
   "execution_count": 24,
   "metadata": {},
   "outputs": [],
   "source": [
    "# Model \n",
    "model_min = HistGradientBoostingClassifier(learning_rate = best_params[0],\n",
    "                                           max_depth = int(round(best_params[1])),\n",
    "                                           l2_regularization=int(round(best_params[2]))).fit(train_x,train_y)"
   ]
  },
  {
   "cell_type": "code",
   "execution_count": 25,
   "metadata": {},
   "outputs": [],
   "source": [
    "# predykcje\n",
    "valid_pred_m1 = model_min.predict(valid_x)"
   ]
  },
  {
   "cell_type": "markdown",
   "metadata": {},
   "source": [
    "## Optymalizacja ewolucyjna"
   ]
  },
  {
   "cell_type": "code",
   "execution_count": 28,
   "metadata": {},
   "outputs": [],
   "source": [
    "# Optymalizacja ewolucyjna\n",
    "optimization = differential_evolution(func = optimization_function,\n",
    "                                      bounds=bounds,\n",
    "                                      args = (train_x,train_y,test_x,test_y),\n",
    "                                      strategy='best1bin',\n",
    "                                      maxiter = 10)"
   ]
  },
  {
   "cell_type": "code",
   "execution_count": null,
   "metadata": {},
   "outputs": [],
   "source": [
    "# Najlepsze parametry\n",
    "best_params_evolution = optimization.x\n",
    "best_params_evolution"
   ]
  },
  {
   "cell_type": "code",
   "execution_count": 30,
   "metadata": {},
   "outputs": [],
   "source": [
    "# Model \n",
    "model = HistGradientBoostingClassifier(learning_rate = best_params_evolution[0],\n",
    "                                           max_depth = int(round(best_params_evolution[1])),\n",
    "                                           l2_regularization=int(round(best_params_evolution[2]))).fit(train_x,train_y)\n"
   ]
  },
  {
   "cell_type": "code",
   "execution_count": 31,
   "metadata": {},
   "outputs": [],
   "source": [
    "# predykcje\n",
    "valid_pred_m2 = model.predict(valid_x)"
   ]
  },
  {
   "cell_type": "code",
   "execution_count": null,
   "metadata": {},
   "outputs": [],
   "source": [
    "# raport klasyfikacji model 1\n",
    "print(classification_report(valid_y,valid_pred_m1))"
   ]
  },
  {
   "cell_type": "code",
   "execution_count": null,
   "metadata": {},
   "outputs": [],
   "source": [
    "# raport klasyfikacji model 2\n",
    "print(classification_report(valid_y,valid_pred_m2))"
   ]
  }
 ],
 "metadata": {
  "kernelspec": {
   "display_name": "Python 3",
   "language": "python",
   "name": "python3"
  },
  "language_info": {
   "codemirror_mode": {
    "name": "ipython",
    "version": 3
   },
   "file_extension": ".py",
   "mimetype": "text/x-python",
   "name": "python",
   "nbconvert_exporter": "python",
   "pygments_lexer": "ipython3",
   "version": "3.12.5"
  }
 },
 "nbformat": 4,
 "nbformat_minor": 2
}
