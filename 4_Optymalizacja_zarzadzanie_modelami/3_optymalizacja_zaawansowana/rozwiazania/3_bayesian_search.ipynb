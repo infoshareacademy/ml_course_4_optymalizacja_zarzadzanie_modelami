{
 "cells": [
  {
   "cell_type": "markdown",
   "metadata": {},
   "source": [
    "# Bayesian optimization\n",
    "\n",
    "Zbiór danych do analizy: https://www.kaggle.com/datasets/prishasawhney/mushroom-dataset\n",
    "\n",
    "Mamy dane dotyczące grzybów. Model ma za zadanie ocenić, czy grzyb jest jadalny.\n",
    "Cel biznesowy: Stworzenie aplikacji, która pomoże użytkownikowi w ocenie czy grzyb jest jadalny, poprawiając bezpieczeństwo.\n",
    "\n",
    "Zmienne:\n",
    "- Cap Diameter\n",
    "- Cap Shape\n",
    "- Gill Attachment\n",
    "- Gill Color\n",
    "- Stem Height\n",
    "- Stem Width\n",
    "- Stem Color\n",
    "- Season\n",
    "- Target Class - Is it edible or not?\n",
    "\n",
    "Dokumentacja: https://bayesian-optimization.github.io/BayesianOptimization/2.0.0/\n"
   ]
  },
  {
   "cell_type": "code",
   "execution_count": null,
   "metadata": {},
   "outputs": [],
   "source": [
    "#pip install bayesian-optimization"
   ]
  },
  {
   "cell_type": "code",
   "execution_count": 1,
   "metadata": {},
   "outputs": [],
   "source": [
    "from sklearn.svm import SVC\n",
    "import pandas as pd\n",
    "from sklearn.model_selection import  cross_val_score \n",
    "from sklearn.ensemble import RandomForestClassifier\n",
    "from sklearn.model_selection import train_test_split\n",
    "from sklearn.metrics import roc_auc_score\n",
    "from bayes_opt import BayesianOptimization"
   ]
  },
  {
   "cell_type": "code",
   "execution_count": 2,
   "metadata": {},
   "outputs": [],
   "source": [
    "# puść ten kod, \n",
    "# jeżeli wywołujesz plik  w folderze rozwiąznaia, \n",
    "# a ramka danych znajduje się w folderze data\n",
    "import os \n",
    "os.chdir('../')"
   ]
  },
  {
   "cell_type": "code",
   "execution_count": 3,
   "metadata": {},
   "outputs": [],
   "source": [
    "# Pobranie danych\n",
    "df = pd.read_csv('data/mushroom.csv')"
   ]
  },
  {
   "cell_type": "code",
   "execution_count": 3,
   "metadata": {},
   "outputs": [],
   "source": [
    "from sklearn.preprocessing import scale"
   ]
  },
  {
   "cell_type": "code",
   "execution_count": 7,
   "metadata": {},
   "outputs": [],
   "source": [
    "# skalowanie danych\n",
    "df_x_scaled = pd.DataFrame(scale(df.drop('class',axis=1)),columns = df.drop('class',axis=1).columns)"
   ]
  },
  {
   "cell_type": "code",
   "execution_count": 8,
   "metadata": {},
   "outputs": [
    {
     "data": {
      "text/html": [
       "<div>\n",
       "<style scoped>\n",
       "    .dataframe tbody tr th:only-of-type {\n",
       "        vertical-align: middle;\n",
       "    }\n",
       "\n",
       "    .dataframe tbody tr th {\n",
       "        vertical-align: top;\n",
       "    }\n",
       "\n",
       "    .dataframe thead th {\n",
       "        text-align: right;\n",
       "    }\n",
       "</style>\n",
       "<table border=\"1\" class=\"dataframe\">\n",
       "  <thead>\n",
       "    <tr style=\"text-align: right;\">\n",
       "      <th></th>\n",
       "      <th>cap-diameter</th>\n",
       "      <th>cap-shape</th>\n",
       "      <th>gill-attachment</th>\n",
       "      <th>gill-color</th>\n",
       "      <th>stem-height</th>\n",
       "      <th>stem-width</th>\n",
       "      <th>stem-color</th>\n",
       "      <th>season</th>\n",
       "    </tr>\n",
       "  </thead>\n",
       "  <tbody>\n",
       "    <tr>\n",
       "      <th>0</th>\n",
       "      <td>2.236139</td>\n",
       "      <td>-0.925864</td>\n",
       "      <td>-0.063737</td>\n",
       "      <td>0.834467</td>\n",
       "      <td>4.682845</td>\n",
       "      <td>0.631570</td>\n",
       "      <td>0.791508</td>\n",
       "      <td>2.788402</td>\n",
       "    </tr>\n",
       "    <tr>\n",
       "      <th>1</th>\n",
       "      <td>2.483444</td>\n",
       "      <td>-0.925864</td>\n",
       "      <td>-0.063737</td>\n",
       "      <td>0.834467</td>\n",
       "      <td>4.682845</td>\n",
       "      <td>0.646914</td>\n",
       "      <td>0.791508</td>\n",
       "      <td>2.788402</td>\n",
       "    </tr>\n",
       "    <tr>\n",
       "      <th>2</th>\n",
       "      <td>2.233361</td>\n",
       "      <td>-0.925864</td>\n",
       "      <td>-0.063737</td>\n",
       "      <td>0.834467</td>\n",
       "      <td>4.383334</td>\n",
       "      <td>0.658423</td>\n",
       "      <td>0.791508</td>\n",
       "      <td>2.788402</td>\n",
       "    </tr>\n",
       "    <tr>\n",
       "      <th>3</th>\n",
       "      <td>1.927704</td>\n",
       "      <td>0.925572</td>\n",
       "      <td>-0.063737</td>\n",
       "      <td>0.834467</td>\n",
       "      <td>4.652283</td>\n",
       "      <td>0.658423</td>\n",
       "      <td>0.791508</td>\n",
       "      <td>2.788402</td>\n",
       "    </tr>\n",
       "    <tr>\n",
       "      <th>4</th>\n",
       "      <td>2.049966</td>\n",
       "      <td>0.925572</td>\n",
       "      <td>-0.063737</td>\n",
       "      <td>0.834467</td>\n",
       "      <td>4.536146</td>\n",
       "      <td>0.527996</td>\n",
       "      <td>0.791508</td>\n",
       "      <td>-0.029348</td>\n",
       "    </tr>\n",
       "    <tr>\n",
       "      <th>...</th>\n",
       "      <td>...</td>\n",
       "      <td>...</td>\n",
       "      <td>...</td>\n",
       "      <td>...</td>\n",
       "      <td>...</td>\n",
       "      <td>...</td>\n",
       "      <td>...</td>\n",
       "      <td>...</td>\n",
       "    </tr>\n",
       "    <tr>\n",
       "      <th>54030</th>\n",
       "      <td>-1.373393</td>\n",
       "      <td>0.462713</td>\n",
       "      <td>0.384935</td>\n",
       "      <td>-1.665349</td>\n",
       "      <td>0.197600</td>\n",
       "      <td>-0.616434</td>\n",
       "      <td>1.098064</td>\n",
       "      <td>-0.029348</td>\n",
       "    </tr>\n",
       "    <tr>\n",
       "      <th>54031</th>\n",
       "      <td>-1.348385</td>\n",
       "      <td>-0.925864</td>\n",
       "      <td>0.384935</td>\n",
       "      <td>-1.665349</td>\n",
       "      <td>0.656036</td>\n",
       "      <td>-0.717450</td>\n",
       "      <td>1.098064</td>\n",
       "      <td>-0.029348</td>\n",
       "    </tr>\n",
       "    <tr>\n",
       "      <th>54032</th>\n",
       "      <td>-1.348385</td>\n",
       "      <td>0.462713</td>\n",
       "      <td>0.384935</td>\n",
       "      <td>-1.665349</td>\n",
       "      <td>0.240388</td>\n",
       "      <td>-0.597253</td>\n",
       "      <td>1.098064</td>\n",
       "      <td>-0.208490</td>\n",
       "    </tr>\n",
       "    <tr>\n",
       "      <th>54033</th>\n",
       "      <td>-1.356721</td>\n",
       "      <td>-0.925864</td>\n",
       "      <td>0.384935</td>\n",
       "      <td>-1.665349</td>\n",
       "      <td>0.423762</td>\n",
       "      <td>-0.716172</td>\n",
       "      <td>1.098064</td>\n",
       "      <td>-0.208490</td>\n",
       "    </tr>\n",
       "    <tr>\n",
       "      <th>54034</th>\n",
       "      <td>-1.376172</td>\n",
       "      <td>0.462713</td>\n",
       "      <td>0.384935</td>\n",
       "      <td>-1.665349</td>\n",
       "      <td>0.613248</td>\n",
       "      <td>-0.714893</td>\n",
       "      <td>1.098064</td>\n",
       "      <td>-0.208490</td>\n",
       "    </tr>\n",
       "  </tbody>\n",
       "</table>\n",
       "<p>54035 rows × 8 columns</p>\n",
       "</div>"
      ],
      "text/plain": [
       "       cap-diameter  cap-shape  gill-attachment  gill-color  stem-height  \\\n",
       "0          2.236139  -0.925864        -0.063737    0.834467     4.682845   \n",
       "1          2.483444  -0.925864        -0.063737    0.834467     4.682845   \n",
       "2          2.233361  -0.925864        -0.063737    0.834467     4.383334   \n",
       "3          1.927704   0.925572        -0.063737    0.834467     4.652283   \n",
       "4          2.049966   0.925572        -0.063737    0.834467     4.536146   \n",
       "...             ...        ...              ...         ...          ...   \n",
       "54030     -1.373393   0.462713         0.384935   -1.665349     0.197600   \n",
       "54031     -1.348385  -0.925864         0.384935   -1.665349     0.656036   \n",
       "54032     -1.348385   0.462713         0.384935   -1.665349     0.240388   \n",
       "54033     -1.356721  -0.925864         0.384935   -1.665349     0.423762   \n",
       "54034     -1.376172   0.462713         0.384935   -1.665349     0.613248   \n",
       "\n",
       "       stem-width  stem-color    season  \n",
       "0        0.631570    0.791508  2.788402  \n",
       "1        0.646914    0.791508  2.788402  \n",
       "2        0.658423    0.791508  2.788402  \n",
       "3        0.658423    0.791508  2.788402  \n",
       "4        0.527996    0.791508 -0.029348  \n",
       "...           ...         ...       ...  \n",
       "54030   -0.616434    1.098064 -0.029348  \n",
       "54031   -0.717450    1.098064 -0.029348  \n",
       "54032   -0.597253    1.098064 -0.208490  \n",
       "54033   -0.716172    1.098064 -0.208490  \n",
       "54034   -0.714893    1.098064 -0.208490  \n",
       "\n",
       "[54035 rows x 8 columns]"
      ]
     },
     "execution_count": 8,
     "metadata": {},
     "output_type": "execute_result"
    }
   ],
   "source": [
    "df_x_scaled"
   ]
  },
  {
   "cell_type": "code",
   "execution_count": 9,
   "metadata": {},
   "outputs": [],
   "source": [
    "# Podział na zbiór treningowy i testowy\n",
    "train_x, test_x,train_y, test_y = train_test_split(df_x_scaled,df['class'], test_size=0.3, random_state=1000)"
   ]
  },
  {
   "cell_type": "code",
   "execution_count": 14,
   "metadata": {},
   "outputs": [],
   "source": [
    "# funkcja optymalizacyjna\n",
    "def opt_fun(C):\n",
    "    model = SVC(C=C).fit(train_x, train_y)\n",
    "    score = cross_val_score(model, train_x, train_y, cv=3,  scoring='roc_auc').mean()\n",
    "    return score"
   ]
  },
  {
   "cell_type": "code",
   "execution_count": 10,
   "metadata": {},
   "outputs": [],
   "source": [
    "# Przykładowy model\n",
    "m = SVC(C=1).fit(train_x,train_y)"
   ]
  },
  {
   "cell_type": "code",
   "execution_count": 11,
   "metadata": {},
   "outputs": [
    {
     "data": {
      "text/plain": [
       "array([0.95114005, 0.94937216, 0.95059249])"
      ]
     },
     "execution_count": 11,
     "metadata": {},
     "output_type": "execute_result"
    }
   ],
   "source": [
    "# cross val score\n",
    "cross_val_score(m, train_x, train_y, cv=3,  scoring='roc_auc')"
   ]
  },
  {
   "cell_type": "code",
   "execution_count": 12,
   "metadata": {},
   "outputs": [],
   "source": [
    "# Zakres parametrow\n",
    "params = {\"C\": [0.01,5]}"
   ]
  },
  {
   "cell_type": "code",
   "execution_count": 15,
   "metadata": {},
   "outputs": [],
   "source": [
    "# Optymalizacja\n",
    "optimization = BayesianOptimization(f = opt_fun,\n",
    "                                    pbounds = params)"
   ]
  },
  {
   "cell_type": "code",
   "execution_count": null,
   "metadata": {},
   "outputs": [
    {
     "name": "stdout",
     "output_type": "stream",
     "text": [
      "|   iter    |  target   |     C     |\n",
      "-------------------------------------\n",
      "| \u001b[39m1        \u001b[39m | \u001b[39m0.9712   \u001b[39m | \u001b[39m3.107    \u001b[39m |\n",
      "| \u001b[39m2        \u001b[39m | \u001b[39m0.9543   \u001b[39m | \u001b[39m1.189    \u001b[39m |\n",
      "| \u001b[35m3        \u001b[39m | \u001b[35m0.9762   \u001b[39m | \u001b[35m4.522    \u001b[39m |\n",
      "| \u001b[39m4        \u001b[39m | \u001b[39m0.964    \u001b[39m | \u001b[39m1.958    \u001b[39m |\n",
      "| \u001b[35m5        \u001b[39m | \u001b[35m0.977    \u001b[39m | \u001b[35m4.863    \u001b[39m |\n",
      "| \u001b[35m6        \u001b[39m | \u001b[35m0.9773   \u001b[39m | \u001b[35m5.0      \u001b[39m |\n",
      "| \u001b[39m7        \u001b[39m | \u001b[39m0.9773   \u001b[39m | \u001b[39m5.0      \u001b[39m |\n",
      "| \u001b[39m8        \u001b[39m | \u001b[39m0.9773   \u001b[39m | \u001b[39m5.0      \u001b[39m |\n",
      "| \u001b[39m9        \u001b[39m | \u001b[39m0.9773   \u001b[39m | \u001b[39m5.0      \u001b[39m |\n",
      "=====================================\n"
     ]
    }
   ],
   "source": [
    "# Optymalizacja\n",
    "optimization.maximize(n_iter=4,init_points=5)"
   ]
  },
  {
   "cell_type": "code",
   "execution_count": 17,
   "metadata": {},
   "outputs": [
    {
     "data": {
      "text/plain": [
       "{'target': 0.9773043963308798, 'params': {'C': 4.999796980014235}}"
      ]
     },
     "execution_count": 17,
     "metadata": {},
     "output_type": "execute_result"
    }
   ],
   "source": [
    "optimization.max"
   ]
  },
  {
   "cell_type": "code",
   "execution_count": 22,
   "metadata": {},
   "outputs": [],
   "source": [
    "C = optimization.max['params']['C']"
   ]
  },
  {
   "cell_type": "code",
   "execution_count": 23,
   "metadata": {},
   "outputs": [],
   "source": [
    "model = SVC(C=C).fit(train_x,train_y)"
   ]
  },
  {
   "cell_type": "code",
   "execution_count": 24,
   "metadata": {},
   "outputs": [],
   "source": [
    "test_pred = model.predict(test_x)"
   ]
  },
  {
   "cell_type": "code",
   "execution_count": 25,
   "metadata": {},
   "outputs": [
    {
     "data": {
      "text/plain": [
       "0.9416078599550147"
      ]
     },
     "execution_count": 25,
     "metadata": {},
     "output_type": "execute_result"
    }
   ],
   "source": [
    "roc_auc_score(test_y,test_pred)"
   ]
  }
 ],
 "metadata": {
  "kernelspec": {
   "display_name": "Python 3",
   "language": "python",
   "name": "python3"
  },
  "language_info": {
   "codemirror_mode": {
    "name": "ipython",
    "version": 3
   },
   "file_extension": ".py",
   "mimetype": "text/x-python",
   "name": "python",
   "nbconvert_exporter": "python",
   "pygments_lexer": "ipython3",
   "version": "3.12.5"
  }
 },
 "nbformat": 4,
 "nbformat_minor": 2
}
