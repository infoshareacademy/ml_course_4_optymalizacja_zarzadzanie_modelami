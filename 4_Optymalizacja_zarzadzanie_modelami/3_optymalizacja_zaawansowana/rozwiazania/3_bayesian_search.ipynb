{
 "cells": [
  {
   "cell_type": "markdown",
   "metadata": {},
   "source": [
    "# Bayesian optimization\n",
    "\n",
    "Zbiór danych do analizy: https://www.kaggle.com/datasets/prishasawhney/mushroom-dataset\n",
    "\n",
    "Mamy dane dotyczące grzybów. Model ma za zadanie ocenić, czy grzyb jest jadalny.\n",
    "Cel biznesowy: Stworzenie aplikacji, która pomoże użytkownikowi w ocenie czy grzyb jest jadalny, poprawiając bezpieczeństwo.\n",
    "\n",
    "Zmienne:\n",
    "- Cap Diameter\n",
    "- Cap Shape\n",
    "- Gill Attachment\n",
    "- Gill Color\n",
    "- Stem Height\n",
    "- Stem Width\n",
    "- Stem Color\n",
    "- Season\n",
    "- Target Class - Is it edible or not?\n",
    "\n",
    "Dokumentacja: https://bayesian-optimization.github.io/BayesianOptimization/2.0.0/\n"
   ]
  },
  {
   "cell_type": "code",
   "execution_count": null,
   "metadata": {},
   "outputs": [],
   "source": [
    "#pip install bayesian-optimization"
   ]
  },
  {
   "cell_type": "code",
   "execution_count": 38,
   "metadata": {},
   "outputs": [],
   "source": [
    "from sklearn.svm import SVC\n",
    "import pandas as pd\n",
    "from sklearn.model_selection import  cross_val_score \n",
    "from sklearn.ensemble import RandomForestClassifier\n",
    "from sklearn.model_selection import train_test_split\n",
    "from sklearn.metrics import f1_score\n",
    "from bayes_opt import BayesianOptimization"
   ]
  },
  {
   "cell_type": "code",
   "execution_count": null,
   "metadata": {},
   "outputs": [],
   "source": [
    "# puść ten kod, \n",
    "# jeżeli wywołujesz plik  w folderze rozwiąznaia, \n",
    "# a ramka danych znajduje się w folderze data\n",
    "import os \n",
    "os.chdir('../')"
   ]
  },
  {
   "cell_type": "code",
   "execution_count": null,
   "metadata": {},
   "outputs": [],
   "source": [
    "# Pobranie danych\n",
    "df = pd.read_csv('data/mushroom.csv')"
   ]
  },
  {
   "cell_type": "code",
   "execution_count": null,
   "metadata": {},
   "outputs": [],
   "source": [
    "from sklearn.preprocessing import scale"
   ]
  },
  {
   "cell_type": "code",
   "execution_count": null,
   "metadata": {},
   "outputs": [],
   "source": [
    "# skalowanie danych\n",
    "df_x_scaled = pd.DataFrame(scale(df.drop('class',axis=1)),columns = df.drop('class',axis=1).columns)"
   ]
  },
  {
   "cell_type": "code",
   "execution_count": null,
   "metadata": {},
   "outputs": [],
   "source": [
    "df_x_scaled"
   ]
  },
  {
   "cell_type": "code",
   "execution_count": null,
   "metadata": {},
   "outputs": [],
   "source": [
    "# Podział na zbiór treningowy i testowy\n",
    "train_x, test_x,train_y, test_y = train_test_split(df_x_scaled,df['class'], test_size=0.3, random_state=1000)"
   ]
  },
  {
   "cell_type": "code",
   "execution_count": 27,
   "metadata": {},
   "outputs": [],
   "source": [
    "# funkcja optymalizacyjna\n",
    "def opt_fun(C):\n",
    "    model = SVC(C=C).fit(train_x,train_y)\n",
    "    score = cross_val_score(model, train_x, train_y, cv=3, scoring='f1').mean()\n",
    "    return score"
   ]
  },
  {
   "cell_type": "code",
   "execution_count": 28,
   "metadata": {},
   "outputs": [],
   "source": [
    "# Przykładowy model\n",
    "model = SVC(C=1).fit(train_x,train_y)"
   ]
  },
  {
   "cell_type": "code",
   "execution_count": 29,
   "metadata": {},
   "outputs": [
    {
     "data": {
      "text/plain": [
       "array([0.89101449, 0.89199856, 0.89524222])"
      ]
     },
     "execution_count": 29,
     "metadata": {},
     "output_type": "execute_result"
    }
   ],
   "source": [
    "# cross val score\n",
    "cross_val_score(model, train_x, train_y, cv=3, scoring='f1')"
   ]
  },
  {
   "cell_type": "code",
   "execution_count": 30,
   "metadata": {},
   "outputs": [],
   "source": [
    "# Zakres parametrow\n",
    "params = {\"C\": [0.01, 5]}"
   ]
  },
  {
   "cell_type": "code",
   "execution_count": 31,
   "metadata": {},
   "outputs": [],
   "source": [
    "# Optymalizacja\n",
    "optimization = BayesianOptimization(f=opt_fun, pbounds = params)"
   ]
  },
  {
   "cell_type": "code",
   "execution_count": 32,
   "metadata": {},
   "outputs": [
    {
     "name": "stdout",
     "output_type": "stream",
     "text": [
      "|   iter    |  target   |     C     |\n",
      "-------------------------------------\n",
      "| \u001b[39m1        \u001b[39m | \u001b[39m0.8819   \u001b[39m | \u001b[39m0.6675   \u001b[39m |\n",
      "| \u001b[35m2        \u001b[39m | \u001b[35m0.9166   \u001b[39m | \u001b[35m2.013    \u001b[39m |\n",
      "| \u001b[35m3        \u001b[39m | \u001b[35m0.9285   \u001b[39m | \u001b[35m3.476    \u001b[39m |\n",
      "| \u001b[39m4        \u001b[39m | \u001b[39m0.9063   \u001b[39m | \u001b[39m1.471    \u001b[39m |\n",
      "| \u001b[39m5        \u001b[39m | \u001b[39m0.8864   \u001b[39m | \u001b[39m0.7899   \u001b[39m |\n",
      "| \u001b[35m6        \u001b[39m | \u001b[35m0.9361   \u001b[39m | \u001b[35m5.0      \u001b[39m |\n",
      "| \u001b[39m7        \u001b[39m | \u001b[39m0.9329   \u001b[39m | \u001b[39m4.373    \u001b[39m |\n",
      "| \u001b[39m8        \u001b[39m | \u001b[39m0.935    \u001b[39m | \u001b[39m4.8      \u001b[39m |\n",
      "| \u001b[39m9        \u001b[39m | \u001b[39m0.9361   \u001b[39m | \u001b[39m5.0      \u001b[39m |\n",
      "=====================================\n"
     ]
    }
   ],
   "source": [
    "# Optymalizacja\n",
    "optimization.maximize(n_iter=4)"
   ]
  },
  {
   "cell_type": "code",
   "execution_count": 33,
   "metadata": {},
   "outputs": [
    {
     "data": {
      "text/plain": [
       "{'target': 0.9360537319953947, 'params': {'C': 4.999653706758339}}"
      ]
     },
     "execution_count": 33,
     "metadata": {},
     "output_type": "execute_result"
    }
   ],
   "source": [
    "optimization.max"
   ]
  },
  {
   "cell_type": "code",
   "execution_count": 34,
   "metadata": {},
   "outputs": [
    {
     "data": {
      "text/plain": [
       "4.999653706758339"
      ]
     },
     "execution_count": 34,
     "metadata": {},
     "output_type": "execute_result"
    }
   ],
   "source": [
    "C = optimization.max['params']['C']\n",
    "C"
   ]
  },
  {
   "cell_type": "code",
   "execution_count": 35,
   "metadata": {},
   "outputs": [],
   "source": [
    "model = SVC(C=C).fit(train_x,train_y)"
   ]
  },
  {
   "cell_type": "code",
   "execution_count": 36,
   "metadata": {},
   "outputs": [],
   "source": [
    "pred_test = model.predict(test_x)"
   ]
  },
  {
   "cell_type": "code",
   "execution_count": 39,
   "metadata": {},
   "outputs": [
    {
     "data": {
      "text/plain": [
       "0.9466192170818505"
      ]
     },
     "execution_count": 39,
     "metadata": {},
     "output_type": "execute_result"
    }
   ],
   "source": [
    "f1_score(test_y,pred_test)"
   ]
  }
 ],
 "metadata": {
  "kernelspec": {
   "display_name": "Python 3",
   "language": "python",
   "name": "python3"
  },
  "language_info": {
   "codemirror_mode": {
    "name": "ipython",
    "version": 3
   },
   "file_extension": ".py",
   "mimetype": "text/x-python",
   "name": "python",
   "nbconvert_exporter": "python",
   "pygments_lexer": "ipython3",
   "version": "3.12.5"
  }
 },
 "nbformat": 4,
 "nbformat_minor": 2
}
